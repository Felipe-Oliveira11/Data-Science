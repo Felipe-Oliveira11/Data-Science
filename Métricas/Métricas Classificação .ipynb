{
 "cells": [
  {
   "cell_type": "markdown",
   "metadata": {},
   "source": [
    "## Modelagem"
   ]
  },
  {
   "cell_type": "code",
   "execution_count": 1,
   "metadata": {},
   "outputs": [
    {
     "data": {
      "text/html": [
       "<div>\n",
       "<style scoped>\n",
       "    .dataframe tbody tr th:only-of-type {\n",
       "        vertical-align: middle;\n",
       "    }\n",
       "\n",
       "    .dataframe tbody tr th {\n",
       "        vertical-align: top;\n",
       "    }\n",
       "\n",
       "    .dataframe thead th {\n",
       "        text-align: right;\n",
       "    }\n",
       "</style>\n",
       "<table border=\"1\" class=\"dataframe\">\n",
       "  <thead>\n",
       "    <tr style=\"text-align: right;\">\n",
       "      <th></th>\n",
       "      <th>age</th>\n",
       "      <th>sex</th>\n",
       "      <th>cp</th>\n",
       "      <th>trestbps</th>\n",
       "      <th>chol</th>\n",
       "      <th>fbs</th>\n",
       "      <th>restecg</th>\n",
       "      <th>thalach</th>\n",
       "      <th>exang</th>\n",
       "      <th>oldpeak</th>\n",
       "      <th>slope</th>\n",
       "      <th>ca</th>\n",
       "      <th>thal</th>\n",
       "      <th>target</th>\n",
       "    </tr>\n",
       "  </thead>\n",
       "  <tbody>\n",
       "    <tr>\n",
       "      <th>0</th>\n",
       "      <td>63</td>\n",
       "      <td>1</td>\n",
       "      <td>3</td>\n",
       "      <td>145</td>\n",
       "      <td>233</td>\n",
       "      <td>1</td>\n",
       "      <td>0</td>\n",
       "      <td>150</td>\n",
       "      <td>0</td>\n",
       "      <td>2.3</td>\n",
       "      <td>0</td>\n",
       "      <td>0</td>\n",
       "      <td>1</td>\n",
       "      <td>1</td>\n",
       "    </tr>\n",
       "    <tr>\n",
       "      <th>1</th>\n",
       "      <td>37</td>\n",
       "      <td>1</td>\n",
       "      <td>2</td>\n",
       "      <td>130</td>\n",
       "      <td>250</td>\n",
       "      <td>0</td>\n",
       "      <td>1</td>\n",
       "      <td>187</td>\n",
       "      <td>0</td>\n",
       "      <td>3.5</td>\n",
       "      <td>0</td>\n",
       "      <td>0</td>\n",
       "      <td>2</td>\n",
       "      <td>1</td>\n",
       "    </tr>\n",
       "    <tr>\n",
       "      <th>2</th>\n",
       "      <td>41</td>\n",
       "      <td>0</td>\n",
       "      <td>1</td>\n",
       "      <td>130</td>\n",
       "      <td>204</td>\n",
       "      <td>0</td>\n",
       "      <td>0</td>\n",
       "      <td>172</td>\n",
       "      <td>0</td>\n",
       "      <td>1.4</td>\n",
       "      <td>2</td>\n",
       "      <td>0</td>\n",
       "      <td>2</td>\n",
       "      <td>1</td>\n",
       "    </tr>\n",
       "    <tr>\n",
       "      <th>3</th>\n",
       "      <td>56</td>\n",
       "      <td>1</td>\n",
       "      <td>1</td>\n",
       "      <td>120</td>\n",
       "      <td>236</td>\n",
       "      <td>0</td>\n",
       "      <td>1</td>\n",
       "      <td>178</td>\n",
       "      <td>0</td>\n",
       "      <td>0.8</td>\n",
       "      <td>2</td>\n",
       "      <td>0</td>\n",
       "      <td>2</td>\n",
       "      <td>1</td>\n",
       "    </tr>\n",
       "    <tr>\n",
       "      <th>4</th>\n",
       "      <td>57</td>\n",
       "      <td>0</td>\n",
       "      <td>0</td>\n",
       "      <td>120</td>\n",
       "      <td>354</td>\n",
       "      <td>0</td>\n",
       "      <td>1</td>\n",
       "      <td>163</td>\n",
       "      <td>1</td>\n",
       "      <td>0.6</td>\n",
       "      <td>2</td>\n",
       "      <td>0</td>\n",
       "      <td>2</td>\n",
       "      <td>1</td>\n",
       "    </tr>\n",
       "  </tbody>\n",
       "</table>\n",
       "</div>"
      ],
      "text/plain": [
       "   age  sex  cp  trestbps  chol  fbs  restecg  thalach  exang  oldpeak  slope  \\\n",
       "0   63    1   3       145   233    1        0      150      0      2.3      0   \n",
       "1   37    1   2       130   250    0        1      187      0      3.5      0   \n",
       "2   41    0   1       130   204    0        0      172      0      1.4      2   \n",
       "3   56    1   1       120   236    0        1      178      0      0.8      2   \n",
       "4   57    0   0       120   354    0        1      163      1      0.6      2   \n",
       "\n",
       "   ca  thal  target  \n",
       "0   0     1       1  \n",
       "1   0     2       1  \n",
       "2   0     2       1  \n",
       "3   0     2       1  \n",
       "4   0     2       1  "
      ]
     },
     "execution_count": 1,
     "metadata": {},
     "output_type": "execute_result"
    }
   ],
   "source": [
    "import pandas as pd \n",
    "import numpy as np \n",
    "import matplotlib.pyplot as plt \n",
    "import seaborn as sns\n",
    "from sklearn.model_selection import train_test_split \n",
    "from sklearn.metrics import confusion_matrix \n",
    "from sklearn.metrics import classification_report\n",
    "from yellowbrick.classifier import ConfusionMatrix\n",
    "\n",
    "%matplotlib inline \n",
    "import warnings \n",
    "warnings.filterwarnings('ignore')\n",
    "\n",
    "\n",
    "\n",
    "heart = pd.read_csv('heart.csv')\n",
    "heart.head()"
   ]
  },
  {
   "cell_type": "code",
   "execution_count": 2,
   "metadata": {},
   "outputs": [],
   "source": [
    "# Get_dummies     \n",
    "a = pd.get_dummies(heart['cp'], prefix = \"cp\")\n",
    "b = pd.get_dummies(heart['thal'], prefix = \"thal\")\n",
    "c = pd.get_dummies(heart['slope'], prefix = \"slope\")\n",
    "\n",
    "frames = [heart, a, b, c]\n",
    "heart = pd.concat(frames, axis = 1)\n",
    "heart = heart.drop(columns = ['cp', 'thal', 'slope'])\n",
    "\n",
    "# Normalizer \n",
    "y = heart.target.values\n",
    "x_data = heart.drop(['target'], axis = 1)\n",
    "\n",
    "x = (x_data - np.min(x_data)) / (np.max(x_data) - np.min(x_data)).values"
   ]
  },
  {
   "cell_type": "code",
   "execution_count": 3,
   "metadata": {},
   "outputs": [
    {
     "name": "stdout",
     "output_type": "stream",
     "text": [
      "7 NN Score: 88.52%\n"
     ]
    }
   ],
   "source": [
    "# K-NN \n",
    "\n",
    "x_train, x_test, y_train, y_test = train_test_split(x,y, test_size = 0.2,random_state=0)\n",
    "\n",
    "from sklearn.neighbors import KNeighborsClassifier \n",
    "from sklearn.metrics import confusion_matrix \n",
    "\n",
    "# Modelo \n",
    "knn = KNeighborsClassifier(n_neighbors = 7)  # n_neighbors = número de K \n",
    "knn.fit(x_train, y_train)\n",
    "prediction = knn.predict(x_test)\n",
    "\n",
    "print(\"{} NN Score: {}%\".format(7, knn.score(x_test, y_test).round(4)*100))"
   ]
  },
  {
   "cell_type": "code",
   "execution_count": 4,
   "metadata": {},
   "outputs": [
    {
     "data": {
      "image/png": "[encoded data removed]",
      "text/plain": [
       "<Figure size 720x360 with 1 Axes>"
      ]
     },
     "metadata": {
      "needs_background": "light"
     },
     "output_type": "display_data"
    },
    {
     "name": "stdout",
     "output_type": "stream",
     "text": [
      "Pontuação Máxima do KNN: 89.0%\n"
     ]
    }
   ],
   "source": [
    "# Lista Pontuação \n",
    "scoreList = []\n",
    "    \n",
    "# Range de K \n",
    "for i in range(1,20):\n",
    "    knn2 = KNeighborsClassifier(n_neighbors=i)\n",
    "    knn2.fit(x_train, y_train)\n",
    "    scoreList.append(knn2.score(x_test, y_test).round(2)*100)\n",
    "\n",
    "# Gráfico Valores K \n",
    "plt.figure(figsize=(10,5))\n",
    "plt.plot(range(1,20), scoreList)\n",
    "plt.xticks(np.arange(1,20,1))\n",
    "plt.ylabel('Pontuação')\n",
    "plt.xlabel('Valores K')\n",
    "plt.title('Melhor Valor de K')\n",
    "plt.show()\n",
    "\n",
    "# Pontuação máxima \n",
    "acc = max(scoreList)\n",
    "print(\"Pontuação Máxima do KNN: {}%\".format(acc))"
   ]
  },
  {
   "cell_type": "code",
   "execution_count": 5,
   "metadata": {},
   "outputs": [
    {
     "name": "stdout",
     "output_type": "stream",
     "text": [
      "KNN Score: 88.52%\n"
     ]
    }
   ],
   "source": [
    "# Modelo \n",
    "model_knn = KNeighborsClassifier(n_neighbors = 3)  # melhor valor de K = 3 \n",
    "model_knn.fit(x_train, y_train)\n",
    "prediction = model_knn.predict(x_test)\n",
    "\n",
    "print(\"KNN Score: {}%\".format(model_knn.score(x_test, y_test).round(4)*100))"
   ]
  },
  {
   "cell_type": "markdown",
   "metadata": {},
   "source": [
    "<hr>\n",
    "<hr>"
   ]
  },
  {
   "cell_type": "markdown",
   "metadata": {},
   "source": [
    "## Métricas de Classificação \n",
    "<hr>"
   ]
  },
  {
   "cell_type": "markdown",
   "metadata": {},
   "source": [
    "### Classification Report "
   ]
  },
  {
   "cell_type": "code",
   "execution_count": 6,
   "metadata": {},
   "outputs": [
    {
     "name": "stdout",
     "output_type": "stream",
     "text": [
      "              precision    recall  f1-score   support\n",
      "\n",
      "           0       0.88      0.85      0.87        27\n",
      "           1       0.89      0.91      0.90        34\n",
      "\n",
      "    accuracy                           0.89        61\n",
      "   macro avg       0.89      0.88      0.88        61\n",
      "weighted avg       0.89      0.89      0.88        61\n",
      "\n"
     ]
    }
   ],
   "source": [
    "from sklearn.metrics import classification_report\n",
    "print(classification_report(y_test, prediction))"
   ]
  },
  {
   "cell_type": "markdown",
   "metadata": {},
   "source": [
    "### Matriz de Confusão "
   ]
  },
  {
   "cell_type": "code",
   "execution_count": 7,
   "metadata": {},
   "outputs": [
    {
     "data": {
      "image/png": "[encoded data removed]",
      "text/plain": [
       "<Figure size 720x360 with 1 Axes>"
      ]
     },
     "metadata": {
      "needs_background": "light"
     },
     "output_type": "display_data"
    },
    {
     "data": {
      "text/plain": [
       "<matplotlib.axes._subplots.AxesSubplot at 0x19c03b87ac8>"
      ]
     },
     "execution_count": 7,
     "metadata": {},
     "output_type": "execute_result"
    }
   ],
   "source": [
    "# Matriz de Confusão com Yellowbrick \n",
    "\n",
    "from yellowbrick.classifier import ConfusionMatrix\n",
    "\n",
    "plt.figure(figsize=(10,5))\n",
    "\n",
    "cm = ConfusionMatrix(model_knn, classes=['Com Doença', 'Sem Doença'], cmap='Blues')\n",
    "cm.score(x_test, y_test)\n",
    "cm.show()"
   ]
  },
  {
   "cell_type": "code",
   "execution_count": 8,
   "metadata": {},
   "outputs": [],
   "source": [
    "# Fatiando Matriz de Confusão para calcular métricas a parte \n",
    "confusion = confusion_matrix(y_test, prediction)\n",
    "TP = confusion[1,1]\n",
    "TN = confusion[0,0]\n",
    "FP = confusion[0,1]\n",
    "FN = confusion[1,0]"
   ]
  },
  {
   "cell_type": "markdown",
   "metadata": {},
   "source": [
    "### Accuracy \n",
    "Qual frequente o classificador está correto?"
   ]
  },
  {
   "cell_type": "code",
   "execution_count": 9,
   "metadata": {},
   "outputs": [
    {
     "name": "stdout",
     "output_type": "stream",
     "text": [
      "Accurácia: 88.52%\n",
      "Accurácia: 0.8852459016393442%\n"
     ]
    }
   ],
   "source": [
    "# Accuracy \n",
    "from sklearn.metrics import accuracy_score\n",
    "\n",
    "print('Accurácia: {}%'.format(accuracy_score(y_test, prediction, normalize=True).round(4)*100))\n",
    "\n",
    "# Calculando a acurácia de classificação\n",
    "print('Accurácia: {}%'.format((TP+TN)/(TP+TN+FP+FN)))"
   ]
  },
  {
   "cell_type": "markdown",
   "metadata": {},
   "source": [
    "### Precision \n",
    "A precisão é a porcentagem de predições positivas que estavam corretas. "
   ]
  },
  {
   "cell_type": "code",
   "execution_count": 10,
   "metadata": {},
   "outputs": [
    {
     "name": "stdout",
     "output_type": "stream",
     "text": [
      "Precision: 88.571%\n",
      "Precision: 0.8857142857142857%\n"
     ]
    }
   ],
   "source": [
    "# Precision \n",
    "from sklearn.metrics import precision_score\n",
    "\n",
    "print('Precision: {}%'.format(precision_score(y_test,prediction).round(5)*100))\n",
    "\n",
    " \n",
    "print('Precision: {}%'.format(TP/(TP+FP)))"
   ]
  },
  {
   "cell_type": "markdown",
   "metadata": {},
   "source": [
    "### Recall  (Sensibilidade)\n",
    "Quando o valor real é positivo, quão frequente as predições são corretas?"
   ]
  },
  {
   "cell_type": "code",
   "execution_count": 11,
   "metadata": {},
   "outputs": [
    {
     "name": "stdout",
     "output_type": "stream",
     "text": [
      "Recall: 91.176%\n",
      "0.9117647058823529\n"
     ]
    }
   ],
   "source": [
    "# Recall\n",
    "from sklearn.metrics import recall_score\n",
    "\n",
    "print('Recall: {}%'.format(recall_score(y_test,prediction).round(5)*100))\n",
    "\n",
    "print(TP/(TP+FN))"
   ]
  },
  {
   "cell_type": "markdown",
   "metadata": {},
   "source": [
    "### Specificity (Especificidade) "
   ]
  },
  {
   "cell_type": "code",
   "execution_count": 12,
   "metadata": {},
   "outputs": [
    {
     "name": "stdout",
     "output_type": "stream",
     "text": [
      "Specificity: 85.18518518518519%\n"
     ]
    }
   ],
   "source": [
    "specificity = TN / (TN+FP).round(5)*100\n",
    "print('Specificity: {}%'.format((specificity)))"
   ]
  },
  {
   "cell_type": "markdown",
   "metadata": {},
   "source": [
    "### F1 \n",
    "É a média Harmônica entre Precision e Recall "
   ]
  },
  {
   "cell_type": "code",
   "execution_count": 13,
   "metadata": {},
   "outputs": [
    {
     "name": "stdout",
     "output_type": "stream",
     "text": [
      "F1: 89.86%\n",
      "F1: 0.8985507246376812%\n"
     ]
    }
   ],
   "source": [
    "from sklearn.metrics import f1_score \n",
    "print('F1: {}%'.format(f1_score(y_test, prediction).round(4)*100))\n",
    "\n",
    "\n",
    "# Fórmula \n",
    "precision = precision_score(y_test, prediction)\n",
    "recall = recall_score(y_test, prediction)\n",
    "\n",
    "F1 = 2 * (precision * recall) / (precision + recall)\n",
    "print('F1: {}%'.format(F1))"
   ]
  },
  {
   "cell_type": "markdown",
   "metadata": {},
   "source": [
    "<hr>\n",
    "<br>\n",
    "<hr>\n",
    "\n",
    "### Threshold (Limiar de Classificação) "
   ]
  },
  {
   "cell_type": "code",
   "execution_count": 20,
   "metadata": {},
   "outputs": [
    {
     "data": {
      "text/plain": [
       "array([0.        , 0.66666667, 0.66666667, 0.        , 0.        ,\n",
       "       0.33333333, 0.        , 0.33333333, 0.        , 0.        ])"
      ]
     },
     "execution_count": 20,
     "metadata": {},
     "output_type": "execute_result"
    }
   ],
   "source": [
    "# Mostrando as 10 primeiras probabilidades das respostas preditas relacionadas as classes\n",
    "model_knn.predict_proba(x_test)[:10,1]"
   ]
  },
  {
   "cell_type": "code",
   "execution_count": 25,
   "metadata": {},
   "outputs": [],
   "source": [
    "# Armazenando as probabilidades de predição da Classe 1 \n",
    "y_pred_proba = model_knn.predict_proba(x_test)[:,1]"
   ]
  },
  {
   "cell_type": "code",
   "execution_count": 33,
   "metadata": {},
   "outputs": [
    {
     "data": {
      "image/png": "[encoded data removed]",
      "text/plain": [
       "<Figure size 432x288 with 1 Axes>"
      ]
     },
     "metadata": {
      "needs_background": "light"
     },
     "output_type": "display_data"
    }
   ],
   "source": [
    "# Histograma das probabilidades de predição \n",
    "sns.distplot(y_pred_proba, bins=8, color='blue', kde=False)\n",
    "plt.title('Histograma das Probabilidades de predições')\n",
    "plt.ylabel('Frequência')\n",
    "plt.xlim(0,1)\n",
    "plt.show()"
   ]
  },
  {
   "cell_type": "code",
   "execution_count": 37,
   "metadata": {},
   "outputs": [
    {
     "data": {
      "text/plain": [
       "array([[23,  4],\n",
       "       [ 3, 31]], dtype=int64)"
      ]
     },
     "execution_count": 37,
     "metadata": {},
     "output_type": "execute_result"
    }
   ],
   "source": [
    "# Matriz de Confusão (Limiar padrão 0.5)\n",
    "matriz = confusion_matrix(y_test,prediction, labels=[0,1])\n",
    "matriz"
   ]
  },
  {
   "cell_type": "code",
   "execution_count": 42,
   "metadata": {},
   "outputs": [],
   "source": [
    "# Diminuindo o limiar para predição, aumenta a sensibilidade(Recall) do modelo\n",
    "# por que o modelo terá mais classificações frequêntes para classe positiva TPR. \n",
    "\n",
    "# Predizendo doença cardíaca se a probablidade de não ter Doença Cardíaca for maior que 0.15\n",
    "from sklearn.preprocessing import binarize\n",
    "y_pred = binarize([y_pred_proba],0.15)[0]"
   ]
  },
  {
   "cell_type": "code",
   "execution_count": 43,
   "metadata": {},
   "outputs": [
    {
     "name": "stdout",
     "output_type": "stream",
     "text": [
      "[[11 16]\n",
      " [ 2 32]]\n"
     ]
    }
   ],
   "source": [
    "# Nova matriz de confusão (limiar de 0.15)\n",
    "print(confusion_matrix(y_test, y_pred))"
   ]
  },
  {
   "cell_type": "code",
   "execution_count": 46,
   "metadata": {},
   "outputs": [],
   "source": [
    "# Aumentou o número de FP do modelo e também classificou os pacientes\n",
    "# que tinham um probabilidade de ter uma doença cardíaca para classe positiva \n",
    "# que é classificada como Sem Doença cardíaca "
   ]
  },
  {
   "cell_type": "code",
   "execution_count": 49,
   "metadata": {},
   "outputs": [
    {
     "name": "stdout",
     "output_type": "stream",
     "text": [
      "0.9411764705882353\n"
     ]
    }
   ],
   "source": [
    " # Sensibilidade foi aumentada (era 0.91)\n",
    "print(32/(32+2))"
   ]
  },
  {
   "cell_type": "code",
   "execution_count": 51,
   "metadata": {},
   "outputs": [
    {
     "name": "stdout",
     "output_type": "stream",
     "text": [
      "0.4074074074074074\n"
     ]
    }
   ],
   "source": [
    "# Especificidade foi diminuida (era 0.85)\n",
    "print(11/(11+16))"
   ]
  },
  {
   "cell_type": "markdown",
   "metadata": {},
   "source": [
    "##### Conclusão: \n",
    "\n",
    " * Limiar de 0.5 é usado como default (para problemas binários) para converter probabilidades de predição em predição de classes. \n",
    "\n",
    "* Limiar pode ser ajustado aumentando a sensibilidade ou a especificidade\n",
    "* Sensibilidade e Especificidade são inversamente proporcionais\n",
    "<hr>"
   ]
  },
  {
   "cell_type": "markdown",
   "metadata": {},
   "source": [
    "## Curva ROC "
   ]
  },
  {
   "cell_type": "code",
   "execution_count": 63,
   "metadata": {},
   "outputs": [
    {
     "data": {
      "image/png": "[encoded data removed]",
      "text/plain": [
       "<Figure size 720x360 with 1 Axes>"
      ]
     },
     "metadata": {
      "needs_background": "light"
     },
     "output_type": "display_data"
    }
   ],
   "source": [
    "# IMPORTANTE: o primeiro argumento são os valores verdadeiros, segundo argumento são as probabilidades de predição\n",
    "from sklearn.metrics import roc_curve\n",
    "\n",
    "# Probabilidades \n",
    "y_pred_proba = model_knn.predict_proba(x_test)\n",
    "\n",
    "# Curva ROC \n",
    "fpr,tpr,thresholds = roc_curve(y_test, y_pred_proba)\n",
    "\n",
    "# Plotando Curva ROC \n",
    "plt.figure(figsize=(10,5))\n",
    "plt.plot(fpr,tpr)\n",
    "plt.xlabel('1 - Especificidade', fontsize=14)\n",
    "plt.ylabel('Sensibilidade', fontsize=14)\n",
    "plt.grid(True)\n",
    "plt.title('Curva ROC', fontsize=15)\n",
    "plt.show()"
   ]
  },
  {
   "cell_type": "markdown",
   "metadata": {},
   "source": [
    "* Consigo utilizar a Curva ROC para ajudar a escolher um limiar que balanceie sensibilidade e especificidade de um jeito que faça sentido pra o contexto do seu do projeto. "
   ]
  },
  {
   "cell_type": "code",
   "execution_count": 66,
   "metadata": {},
   "outputs": [],
   "source": [
    "# Definindo uma função que recebe um limiar e mostra a sensibilidade e especificidade\n",
    "\n",
    "def limiar(threshold):\n",
    "    print('Sensitivity:', tpr[thresholds > threshold][-1])\n",
    "    print('Specificity:', 1 - fpr[thresholds > threshold][-1])"
   ]
  },
  {
   "cell_type": "code",
   "execution_count": 67,
   "metadata": {},
   "outputs": [
    {
     "name": "stdout",
     "output_type": "stream",
     "text": [
      "Sensitivity: 0.9117647058823529\n",
      "Specificity: 0.8518518518518519\n"
     ]
    }
   ],
   "source": [
    "limiar(0.5)"
   ]
  },
  {
   "cell_type": "code",
   "execution_count": 68,
   "metadata": {},
   "outputs": [
    {
     "name": "stdout",
     "output_type": "stream",
     "text": [
      "Sensitivity: 0.9411764705882353\n",
      "Specificity: 0.40740740740740744\n"
     ]
    }
   ],
   "source": [
    "limiar(0.15)"
   ]
  },
  {
   "cell_type": "markdown",
   "metadata": {},
   "source": [
    "<hr>\n",
    "<hr>\n",
    "\n",
    "## AUC - Area Under Curve \n",
    "\n",
    "* AUC é a porcentagem do gráfico que a curva ocupa.\n",
    "\n",
    "* AUC é usada como uma métrica que resume a performance do classificador.\n",
    "* AUC é bastante útil mesmo quando há um dataset desbalanceado."
   ]
  },
  {
   "cell_type": "code",
   "execution_count": 69,
   "metadata": {},
   "outputs": [
    {
     "name": "stdout",
     "output_type": "stream",
     "text": [
      "0.8818082788671023\n"
     ]
    }
   ],
   "source": [
    "from sklearn.metrics import roc_auc_score\n",
    "\n",
    "print(roc_auc_score(y_test, prediction))"
   ]
  },
  {
   "cell_type": "code",
   "execution_count": null,
   "metadata": {},
   "outputs": [],
   "source": []
  }
 ],
 "metadata": {
  "kernelspec": {
   "display_name": "Python 3",
   "language": "python",
   "name": "python3"
  },
  "language_info": {
   "codemirror_mode": {
    "name": "ipython",
    "version": 3
   },
   "file_extension": ".py",
   "mimetype": "text/x-python",
   "name": "python",
   "nbconvert_exporter": "python",
   "pygments_lexer": "ipython3",
   "version": "3.6.5"
  }
 },
 "nbformat": 4,
 "nbformat_minor": 4
}

{
 "cells": [
  {
   "cell_type": "markdown",
   "metadata": {},
   "source": [
    "### Feature Selection part 2 \n",
    "<hr>"
   ]
  },
  {
   "cell_type": "markdown",
   "metadata": {},
   "source": [
    "<p align=center>\n",
    "<img src=\"https://www.researchgate.net/profile/Enis_Karaarslan/publication/337591149/figure/fig2/AS:830089595990017@1574920190654/The-main-feature-selection-methods-for-machine-learning.png\" width=\"60%\"></p>\n",
    "\n",
    "<br>"
   ]
  },
  {
   "cell_type": "code",
   "execution_count": 1,
   "metadata": {},
   "outputs": [],
   "source": [
    "import numpy as np \n",
    "import pandas as pd \n",
    "import matplotlib.pyplot as plt \n",
    "import seaborn as sns \n",
    "\n",
    "%matplotlib inline \n",
    "import warnings \n",
    "warnings.filterwarnings('ignore')\n",
    "\n",
    "import functools \n",
    "\n",
    "\n",
    "from sklearn.model_selection import train_test_split\n",
    "from sklearn.preprocessing import MinMaxScaler, LabelEncoder \n",
    "from sklearn.metrics import classification_report, accuracy_score, mean_absolute_error\n",
    "from sklearn.linear_model import LinearRegression, Ridge, Lasso\n",
    "from sklearn.ensemble import RandomForestClassifier, RandomForestRegressor\n",
    "from sklearn.svm import SVR "
   ]
  },
  {
   "cell_type": "code",
   "execution_count": 2,
   "metadata": {},
   "outputs": [
    {
     "data": {
      "text/plain": [
       "(569, 32)"
      ]
     },
     "execution_count": 2,
     "metadata": {},
     "output_type": "execute_result"
    }
   ],
   "source": [
    "data = pd.read_csv('data.csv')\n",
    "\n",
    "\n",
    "data.drop('Unnamed: 32', axis=1, inplace=True)\n",
    "\n",
    "X = data.drop('diagnosis', axis=1)\n",
    "y= data['diagnosis']\n",
    "\n",
    "\n",
    "X_train, X_test, y_train, y_test = train_test_split(X,y, test_size=0.30, random_state=14)\n",
    "\n",
    "\n",
    "\n",
    "label = LabelEncoder()\n",
    "\n",
    "y_train = label.fit_transform(y_train)\n",
    "y_test = label.transform(y_test)\n",
    "\n",
    "\n",
    "scaler = MinMaxScaler()\n",
    "X_train = scaler.fit_transform(X_train)\n",
    "X_test = scaler.transform(X_test)\n",
    "\n",
    "data.shape"
   ]
  },
  {
   "cell_type": "markdown",
   "metadata": {},
   "source": [
    "<br>\n",
    "<hr>\n",
    "\n",
    "### Chi2 \n",
    "\n",
    "\n",
    "<br>\n",
    "<b> Somente aplicado a Classificação </b> \n",
    "\n",
    "\n",
    "Calcule estatísticas de qui-quadrado entre cada recurso e classe não negativos.\n",
    "\n",
    "Essa pontuação pode ser usada para selecionar as features n_features com os valores mais altos para a estatística qui-quadrado de teste de X, que deve conter apenas features não negativos, como booleanos ou frequências (por exemplo, contagens de termos na classificação de documentos), em relação ao Aulas.\n",
    "\n",
    "Lembre-se de que o teste do qui-quadrado mede a dependência entre variáveis estocásticas, portanto, o uso dessa função “elimina” as features com maior probabilidade de serem independentes da classe e, portanto, irrelevantes para a classificação.\n",
    "\n",
    "<hr>"
   ]
  },
  {
   "cell_type": "code",
   "execution_count": 3,
   "metadata": {},
   "outputs": [],
   "source": [
    "from sklearn.feature_selection import SelectKBest, f_classif, chi2\n",
    "\n",
    "chi2 = functools.partial(chi2)"
   ]
  },
  {
   "cell_type": "code",
   "execution_count": 4,
   "metadata": {},
   "outputs": [],
   "source": [
    "# Selecionar K=10 \n",
    "\n",
    "selector = SelectKBest(score_func=chi2, k=10)\n",
    "X_train2 = selector.fit_transform(X_train, y_train)\n",
    "X_test2 = selector.transform(X_test)"
   ]
  },
  {
   "cell_type": "code",
   "execution_count": 5,
   "metadata": {},
   "outputs": [
    {
     "name": "stdout",
     "output_type": "stream",
     "text": [
      "0.9298245614035088\n"
     ]
    }
   ],
   "source": [
    "mdl = RandomForestClassifier(n_estimators=100, max_depth=12, random_state=42)\n",
    "mdl.fit(X_train2, y_train)\n",
    "y_pred = mdl.predict(X_test2)\n",
    "\n",
    "print(accuracy_score(y_test, y_pred))"
   ]
  },
  {
   "cell_type": "code",
   "execution_count": 6,
   "metadata": {},
   "outputs": [
    {
     "name": "stdout",
     "output_type": "stream",
     "text": [
      "K: 2 | Score: 0.8888888888888888\n",
      "K: 3 | Score: 0.9005847953216374\n",
      "K: 4 | Score: 0.935672514619883\n",
      "K: 5 | Score: 0.9415204678362573\n",
      "K: 6 | Score: 0.935672514619883\n",
      "K: 7 | Score: 0.9239766081871345\n",
      "K: 8 | Score: 0.935672514619883\n",
      "K: 9 | Score: 0.9473684210526315\n",
      "K: 10 | Score: 0.9298245614035088\n",
      "K: 11 | Score: 0.9415204678362573\n",
      "K: 12 | Score: 0.935672514619883\n",
      "K: 13 | Score: 0.9298245614035088\n",
      "K: 14 | Score: 0.935672514619883\n",
      "K: 15 | Score: 0.9298245614035088\n",
      "K: 16 | Score: 0.9415204678362573\n",
      "K: 17 | Score: 0.9532163742690059\n",
      "K: 18 | Score: 0.9532163742690059\n",
      "K: 19 | Score: 0.9532163742690059\n",
      "K: 20 | Score: 0.9473684210526315\n",
      "K: 21 | Score: 0.9590643274853801\n",
      "K: 22 | Score: 0.9532163742690059\n",
      "K: 23 | Score: 0.9532163742690059\n",
      "K: 24 | Score: 0.9532163742690059\n",
      "K: 25 | Score: 0.9473684210526315\n",
      "K: 26 | Score: 0.9473684210526315\n",
      "K: 27 | Score: 0.9532163742690059\n",
      "K: 28 | Score: 0.9532163742690059\n",
      "K: 29 | Score: 0.9415204678362573\n",
      "K: 30 | Score: 0.9532163742690059\n",
      "K: 31 | Score: 0.9532163742690059\n"
     ]
    }
   ],
   "source": [
    "chi2 = functools.partial(chi2)\n",
    "k=10 \n",
    "\n",
    "resultados = []\n",
    "\n",
    "for k in range(2,32,1):\n",
    "    \n",
    "    # SelectKBest \n",
    "    selector = SelectKBest(score_func=chi2, k=k)\n",
    "    X_train2 = selector.fit_transform(X_train, y_train)\n",
    "    X_test2 = selector.transform(X_test)\n",
    "    \n",
    "    # model \n",
    "    mdl = RandomForestClassifier(n_estimators=100, max_depth=12, random_state=42)\n",
    "    mdl.fit(X_train2, y_train)\n",
    "    y_pred = mdl.predict(X_test2)\n",
    "\n",
    "    # métrica \n",
    "    scores = accuracy_score(y_test, y_pred)\n",
    "    resultados.append(scores)\n",
    "    \n",
    "    # loop \n",
    "    print('K: {} | Score: {}'.format(k, scores))"
   ]
  },
  {
   "cell_type": "code",
   "execution_count": 7,
   "metadata": {},
   "outputs": [
    {
     "data": {
      "text/plain": [
       "Text(0, 0.5, 'Acurácia')"
      ]
     },
     "execution_count": 7,
     "metadata": {},
     "output_type": "execute_result"
    },
    {
     "data": {
      "image/png": "[encoded data removed]",
      "text/plain": [
       "<Figure size 720x576 with 1 Axes>"
      ]
     },
     "metadata": {
      "needs_background": "light"
     },
     "output_type": "display_data"
    }
   ],
   "source": [
    "# avaliando valor de K \n",
    "\n",
    "pd.Series(resultados, index=range(2,32,1)).plot(figsize=(10,8))\n",
    "plt.title('Valores de K', fontsize=14)\n",
    "plt.xlabel('Valor de K')\n",
    "plt.ylabel('Acurácia')"
   ]
  },
  {
   "cell_type": "code",
   "execution_count": 8,
   "metadata": {},
   "outputs": [
    {
     "data": {
      "text/plain": [
       "Index(['radius_mean', 'texture_mean', 'perimeter_mean', 'area_mean',\n",
       "       'compactness_mean', 'concavity_mean', 'concave points_mean',\n",
       "       'radius_se', 'perimeter_se', 'area_se', 'compactness_se',\n",
       "       'radius_worst', 'texture_worst', 'perimeter_worst', 'area_worst',\n",
       "       'smoothness_worst', 'compactness_worst', 'concavity_worst',\n",
       "       'concave points_worst', 'symmetry_worst', 'fractal_dimension_worst'],\n",
       "      dtype='object')"
      ]
     },
     "execution_count": 8,
     "metadata": {},
     "output_type": "execute_result"
    }
   ],
   "source": [
    "# features selecionadas K=21 \n",
    "selector = SelectKBest(score_func=chi2, k=21)\n",
    "selector.fit(X_train, y_train)\n",
    "\n",
    "# máscara \n",
    "mask = selector.get_support()\n",
    "X.columns[mask]"
   ]
  },
  {
   "cell_type": "code",
   "execution_count": 9,
   "metadata": {},
   "outputs": [
    {
     "data": {
      "text/plain": [
       "<matplotlib.axes._subplots.AxesSubplot at 0x14176559188>"
      ]
     },
     "execution_count": 9,
     "metadata": {},
     "output_type": "execute_result"
    },
    {
     "data": {
      "image/png": "[encoded data removed]",
      "text/plain": [
       "<Figure size 864x504 with 1 Axes>"
      ]
     },
     "metadata": {
      "needs_background": "light"
     },
     "output_type": "display_data"
    }
   ],
   "source": [
    "plt.figure(figsize=(12,7))\n",
    "pd.Series(selector.scores_, index=X.columns).sort_values().tail(21).plot.barh()"
   ]
  },
  {
   "cell_type": "markdown",
   "metadata": {},
   "source": [
    "<br>\n",
    "<hr>\n",
    "<hr>\n",
    "\n",
    "\n",
    "\n",
    "### SelectFromModel\n",
    "\n",
    "\n",
    "* Meta-transformador para selecionar features com base em pesos importantes.\n",
    "\n",
    "\n",
    "No caso de modelos lineares, ele vai selecionar os maiores coeficientes dependendo do threshold definido, ou o número de features espcifíco. \n",
    "\n",
    "\n",
    "pode-se utilizar um modelo com coeficientes ou árvores, para identificar as feaures com os maiores pesos e usar em outro modelo, exemplo: SVM, KNN etc.\n",
    "<br>"
   ]
  },
  {
   "cell_type": "code",
   "execution_count": 10,
   "metadata": {},
   "outputs": [
    {
     "data": {
      "text/plain": [
       "(21613, 19)"
      ]
     },
     "execution_count": 10,
     "metadata": {},
     "output_type": "execute_result"
    }
   ],
   "source": [
    "data = pd.read_csv('kc_house_data.csv')\n",
    "\n",
    "\n",
    "data.drop(['id', 'date'], axis=1, inplace=True)\n",
    "\n",
    "X = data.drop('price', axis=1)\n",
    "y= data['price']\n",
    "\n",
    "\n",
    "X_train, X_test, y_train, y_test = train_test_split(X,y, test_size=0.30, random_state=14)\n",
    "\n",
    "\n",
    "scaler = MinMaxScaler()\n",
    "X_train = scaler.fit_transform(X_train)\n",
    "X_test = scaler.transform(X_test)\n",
    "\n",
    "data.shape"
   ]
  },
  {
   "cell_type": "code",
   "execution_count": 11,
   "metadata": {},
   "outputs": [],
   "source": [
    "from sklearn.feature_selection import SelectFromModel"
   ]
  },
  {
   "cell_type": "code",
   "execution_count": 12,
   "metadata": {},
   "outputs": [
    {
     "data": {
      "text/plain": [
       "Index(['bedrooms', 'bathrooms', 'sqft_living', 'waterfront', 'grade',\n",
       "       'sqft_above', 'sqft_basement', 'yr_built', 'lat', 'long'],\n",
       "      dtype='object')"
      ]
     },
     "execution_count": 12,
     "metadata": {},
     "output_type": "execute_result"
    }
   ],
   "source": [
    "# Definindo modelo \n",
    "selector_model = LinearRegression(normalize=True)\n",
    "\n",
    "# Sem threshold \n",
    "selector = SelectFromModel(selector_model, threshold=-np.inf, max_features=10)\n",
    "\n",
    "# Selection \n",
    "X_train2 = selector.fit_transform(X_train, y_train)\n",
    "X_test2 = selector.transform(X_test)\n",
    "\n",
    "\n",
    "# Features selecionadas\n",
    "X.columns[selector.get_support()]"
   ]
  },
  {
   "cell_type": "code",
   "execution_count": 13,
   "metadata": {},
   "outputs": [
    {
     "name": "stdout",
     "output_type": "stream",
     "text": [
      "130195.30747657723\n"
     ]
    }
   ],
   "source": [
    "mdl = LinearRegression(normalize=True)\n",
    "mdl.fit(X_train2, y_train)\n",
    "y_pred = mdl.predict(X_test2)\n",
    "\n",
    "\n",
    "print(mean_absolute_error(y_test, y_pred))"
   ]
  },
  {
   "cell_type": "code",
   "execution_count": 14,
   "metadata": {},
   "outputs": [
    {
     "name": "stdout",
     "output_type": "stream",
     "text": [
      "K: 2 | MAE: 168962.34656842143\n",
      "K: 3 | MAE: 161921.55809636932\n",
      "K: 4 | MAE: 159571.10595781004\n",
      "K: 5 | MAE: 156224.82336877374\n",
      "K: 6 | MAE: 138943.6526513695\n",
      "K: 7 | MAE: 138587.25991065215\n",
      "K: 8 | MAE: 129998.71227009498\n",
      "K: 9 | MAE: 130195.30747657723\n",
      "K: 10 | MAE: 130195.30747657723\n",
      "K: 11 | MAE: 127771.90293563838\n",
      "K: 12 | MAE: 127727.26185386608\n",
      "K: 13 | MAE: 127599.15541757307\n",
      "K: 14 | MAE: 127533.91707519814\n",
      "K: 15 | MAE: 127069.11431229972\n",
      "K: 16 | MAE: 126699.2149100575\n",
      "K: 17 | MAE: 126467.12574020225\n",
      "K: 18 | MAE: 126397.7658725416\n"
     ]
    }
   ],
   "source": [
    "# Gerar pesos com modelos lineares ou baseados em árvore \n",
    "\n",
    "k = 10 \n",
    "\n",
    "for k in range(2,19,1):\n",
    "    # Definindo modelo \n",
    "    selector_model = LinearRegression(normalize=True)\n",
    "\n",
    "    # Sem threshold \n",
    "    selector = SelectFromModel(selector_model, threshold=-np.inf, max_features=k)\n",
    "\n",
    "    # Selection \n",
    "    X_train2 = selector.fit_transform(X_train, y_train)\n",
    "    X_test2 = selector.transform(X_test)\n",
    "\n",
    "    # modelo\n",
    "    mdl = LinearRegression(normalize=True)\n",
    "    mdl.fit(X_train2, y_train)\n",
    "    y_pred = mdl.predict(X_test2)\n",
    "\n",
    "    # métrica \n",
    "    score = mean_absolute_error(y_test, y_pred)\n",
    "    print('K: {} | MAE: {}'.format(k,score))"
   ]
  },
  {
   "cell_type": "code",
   "execution_count": 15,
   "metadata": {},
   "outputs": [
    {
     "name": "stdout",
     "output_type": "stream",
     "text": [
      "K: 2 | MAE: 172954.8502888228\n",
      "K: 3 | MAE: 163374.79806653678\n",
      "K: 4 | MAE: 158726.90472282123\n",
      "K: 5 | MAE: 101763.76274143558\n",
      "K: 6 | MAE: 97700.91250851058\n",
      "K: 7 | MAE: 88054.23976979476\n",
      "K: 8 | MAE: 73134.63927958198\n",
      "K: 9 | MAE: 72008.21464272495\n",
      "K: 10 | MAE: 71696.48424292398\n",
      "K: 11 | MAE: 70403.22280422506\n",
      "K: 12 | MAE: 70283.08818495712\n",
      "K: 13 | MAE: 69631.5273415881\n",
      "K: 14 | MAE: 69056.62986340736\n",
      "K: 15 | MAE: 68666.53248920052\n",
      "K: 16 | MAE: 68860.80964138098\n",
      "K: 17 | MAE: 68703.5964821906\n",
      "K: 18 | MAE: 68655.67569245542\n"
     ]
    }
   ],
   "source": [
    "# Testar com Random Forest \n",
    "\n",
    "#k = 10 \n",
    "\n",
    "for k in range(2,19,1):\n",
    "    # Definindo modelo para seleção  \n",
    "    selector_model = Lasso(alpha=3.0, random_state=42)\n",
    "\n",
    "    # Sem threshold \n",
    "    selector = SelectFromModel(selector_model, threshold=-np.inf, max_features=k)\n",
    "\n",
    "    # Selection \n",
    "    X_train2 = selector.fit_transform(X_train, y_train)\n",
    "    X_test2 = selector.transform(X_test)\n",
    "\n",
    "    # modelo\n",
    "    mdl = RandomForestRegressor(n_estimators=100, random_state=42)\n",
    "    mdl.fit(X_train2, y_train)\n",
    "    y_pred = mdl.predict(X_test2)\n",
    "\n",
    "    # métrica \n",
    "    score = mean_absolute_error(y_test, y_pred)\n",
    "    print('K: {} | MAE: {}'.format(k,score))"
   ]
  },
  {
   "cell_type": "code",
   "execution_count": 16,
   "metadata": {},
   "outputs": [],
   "source": [
    "# Selecionando | Coeficientes Linear Regression\n",
    "selector_model = LinearRegression(normalize=True)\n",
    "\n",
    "# Seletor \n",
    "selector = SelectFromModel(selector_model, threshold=-np.inf, max_features=18)\n",
    "X_train2 = selector.fit_transform(X_train, y_train)\n",
    "X_test2 = selector.transform(X_test)"
   ]
  },
  {
   "cell_type": "code",
   "execution_count": 17,
   "metadata": {},
   "outputs": [],
   "source": [
    "mdl = RandomForestRegressor(n_estimators=1000, random_state=42, n_jobs=-1)\n",
    "mdl.fit(X_train2, y_train)\n",
    "y_pred = mdl.predict(X_test2)"
   ]
  },
  {
   "cell_type": "code",
   "execution_count": 18,
   "metadata": {},
   "outputs": [
    {
     "data": {
      "text/plain": [
       "68230.50799184568"
      ]
     },
     "execution_count": 18,
     "metadata": {},
     "output_type": "execute_result"
    }
   ],
   "source": [
    "mean_absolute_error(y_test, y_pred)"
   ]
  },
  {
   "cell_type": "markdown",
   "metadata": {},
   "source": [
    "<br>\n",
    "<hr>\n",
    "<br>\n",
    "<hr>"
   ]
  },
  {
   "cell_type": "markdown",
   "metadata": {},
   "source": [
    "### Recursive Feature Elimination - RFE \n",
    "\n",
    "\n",
    "Classificação de recursos com eliminação recursiva de recursos.\n",
    "\n",
    "Dado um estimador externo que atribui pesos a recursos (por exemplo, os coeficientes de um modelo linear), o objetivo da eliminação recursiva de recursos (RFE) é selecionar recursos considerando recursivamente, considerando conjuntos cada vez menores de recursos. Primeiro, o estimador é treinado no conjunto inicial de recursos e a importância de cada recurso é obtida por meio de um coef_atributo ou por um feature_importances_atributo. Em seguida, os recursos menos importantes são removidos do conjunto atual de recursos. Esse procedimento é repetido recursivamente no conjunto podado até que o número desejado de recursos a serem selecionados seja finalmente alcançado.\n",
    "\n",
    "<hr>"
   ]
  },
  {
   "cell_type": "code",
   "execution_count": 19,
   "metadata": {},
   "outputs": [],
   "source": [
    "from sklearn.feature_selection import RFE "
   ]
  },
  {
   "cell_type": "code",
   "execution_count": 20,
   "metadata": {},
   "outputs": [
    {
     "data": {
      "text/plain": [
       "array([[0.10867925, 0.00304482, 0.        , ..., 0.42114094, 0.22086957,\n",
       "        0.00614859],\n",
       "       [0.19773585, 0.00453673, 0.        , ..., 0.39513423, 0.42608696,\n",
       "        0.00776654],\n",
       "       [0.11698113, 0.00728351, 0.        , ..., 0.09983221, 0.24695652,\n",
       "        0.01233825],\n",
       "       ...,\n",
       "       [0.19471698, 0.00398789, 0.        , ..., 0.13003356, 0.20347826,\n",
       "        0.01311508],\n",
       "       [0.13433962, 0.04641261, 0.        , ..., 0.32802013, 0.30086957,\n",
       "        0.08751781],\n",
       "       [0.03396226, 0.00542828, 0.        , ..., 0.11241611, 0.04869565,\n",
       "        0.01105246]])"
      ]
     },
     "execution_count": 20,
     "metadata": {},
     "output_type": "execute_result"
    }
   ],
   "source": [
    "# Modelo \n",
    "model = RandomForestRegressor(n_estimators=500, random_state=42)\n",
    "\n",
    "# RFE \n",
    "selector = RFE(model, n_features_to_select=10, step=1)\n",
    "selector.fit_transform(X_train, y_train)\n",
    "selector.transform(X_test)"
   ]
  },
  {
   "cell_type": "code",
   "execution_count": 21,
   "metadata": {},
   "outputs": [
    {
     "name": "stdout",
     "output_type": "stream",
     "text": [
      "Index(['sqft_living', 'sqft_lot', 'waterfront', 'grade', 'sqft_above',\n",
      "       'yr_built', 'lat', 'long', 'sqft_living15', 'sqft_lot15'],\n",
      "      dtype='object')\n"
     ]
    }
   ],
   "source": [
    "# Features selecionadas \n",
    "mask = selector.get_support()\n",
    "print(X.columns[mask])"
   ]
  },
  {
   "cell_type": "code",
   "execution_count": 22,
   "metadata": {},
   "outputs": [
    {
     "name": "stdout",
     "output_type": "stream",
     "text": [
      "K: 2 | MAE: 68230.50799184568\n",
      "K: 3 | MAE: 68230.50799184568\n",
      "K: 4 | MAE: 68230.50799184568\n",
      "K: 5 | MAE: 68230.50799184568\n",
      "K: 6 | MAE: 68230.50799184568\n",
      "K: 7 | MAE: 68230.50799184568\n",
      "K: 8 | MAE: 68230.50799184568\n",
      "K: 9 | MAE: 68230.50799184568\n",
      "K: 10 | MAE: 68230.50799184568\n",
      "K: 11 | MAE: 68230.50799184568\n",
      "K: 12 | MAE: 68230.50799184568\n",
      "K: 13 | MAE: 68230.50799184568\n",
      "K: 14 | MAE: 68230.50799184568\n",
      "K: 15 | MAE: 68230.50799184568\n",
      "K: 16 | MAE: 68230.50799184568\n",
      "K: 17 | MAE: 68230.50799184568\n",
      "K: 18 | MAE: 68230.50799184568\n"
     ]
    }
   ],
   "source": [
    "#k = 5\n",
    "\n",
    "for k in range(2,19,1):\n",
    "    \n",
    "    # modelo \n",
    "    model = Ridge(alpha=1.0, random_state=42)\n",
    "    \n",
    "    # Seletor\n",
    "    selector = RFE(model, n_features_to_select=k, step=1)\n",
    "    selector.fit_transform(X_train, y_train)\n",
    "    selector.transform(X_test)\n",
    "    \n",
    "    # métrica \n",
    "    score = mean_absolute_error(y_test, y_pred)\n",
    "    print('K: {} | MAE: {}'.format(k, score))"
   ]
  }
 ],
 "metadata": {
  "kernelspec": {
   "display_name": "Python 3",
   "language": "python",
   "name": "python3"
  },
  "language_info": {
   "codemirror_mode": {
    "name": "ipython",
    "version": 3
   },
   "file_extension": ".py",
   "mimetype": "text/x-python",
   "name": "python",
   "nbconvert_exporter": "python",
   "pygments_lexer": "ipython3",
   "version": "3.7.6"
  }
 },
 "nbformat": 4,
 "nbformat_minor": 4
}

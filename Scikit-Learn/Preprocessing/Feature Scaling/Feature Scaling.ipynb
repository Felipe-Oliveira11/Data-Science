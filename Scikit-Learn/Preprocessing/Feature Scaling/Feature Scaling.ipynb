{
 "cells": [
  {
   "cell_type": "markdown",
   "metadata": {},
   "source": [
    "# Scikit-learn Preprocessing "
   ]
  },
  {
   "attachments": {
    "sklearn.png": {
     "image/png": "[encoded data removed]"
    }
   },
   "cell_type": "markdown",
   "metadata": {},
   "source": [
    "![sklearn.png](attachment:sklearn.png)"
   ]
  },
  {
   "cell_type": "markdown",
   "metadata": {},
   "source": [
    "<hr>\n",
    "<hr>"
   ]
  },
  {
   "cell_type": "code",
   "execution_count": 1,
   "metadata": {},
   "outputs": [],
   "source": [
    "%matplotlib inline \n",
    "import warnings\n",
    "warnings.filterwarnings('ignore')\n",
    "\n",
    "from sklearn.model_selection import train_test_split\n",
    "import pandas as pd\n",
    "import numpy as np \n",
    "import matplotlib.pyplot as plt\n",
    "import seaborn as sns"
   ]
  },
  {
   "cell_type": "code",
   "execution_count": 2,
   "metadata": {},
   "outputs": [
    {
     "data": {
      "text/html": [
       "<div>\n",
       "<style scoped>\n",
       "    .dataframe tbody tr th:only-of-type {\n",
       "        vertical-align: middle;\n",
       "    }\n",
       "\n",
       "    .dataframe tbody tr th {\n",
       "        vertical-align: top;\n",
       "    }\n",
       "\n",
       "    .dataframe thead th {\n",
       "        text-align: right;\n",
       "    }\n",
       "</style>\n",
       "<table border=\"1\" class=\"dataframe\">\n",
       "  <thead>\n",
       "    <tr style=\"text-align: right;\">\n",
       "      <th></th>\n",
       "      <th>sepal.length</th>\n",
       "      <th>sepal.width</th>\n",
       "      <th>petal.length</th>\n",
       "      <th>petal.width</th>\n",
       "      <th>variety</th>\n",
       "    </tr>\n",
       "  </thead>\n",
       "  <tbody>\n",
       "    <tr>\n",
       "      <th>0</th>\n",
       "      <td>5.1</td>\n",
       "      <td>3.5</td>\n",
       "      <td>1.4</td>\n",
       "      <td>0.2</td>\n",
       "      <td>Setosa</td>\n",
       "    </tr>\n",
       "    <tr>\n",
       "      <th>1</th>\n",
       "      <td>4.9</td>\n",
       "      <td>3.0</td>\n",
       "      <td>1.4</td>\n",
       "      <td>0.2</td>\n",
       "      <td>Setosa</td>\n",
       "    </tr>\n",
       "    <tr>\n",
       "      <th>2</th>\n",
       "      <td>4.7</td>\n",
       "      <td>3.2</td>\n",
       "      <td>1.3</td>\n",
       "      <td>0.2</td>\n",
       "      <td>Setosa</td>\n",
       "    </tr>\n",
       "    <tr>\n",
       "      <th>3</th>\n",
       "      <td>4.6</td>\n",
       "      <td>3.1</td>\n",
       "      <td>1.5</td>\n",
       "      <td>0.2</td>\n",
       "      <td>Setosa</td>\n",
       "    </tr>\n",
       "    <tr>\n",
       "      <th>4</th>\n",
       "      <td>5.0</td>\n",
       "      <td>3.6</td>\n",
       "      <td>1.4</td>\n",
       "      <td>0.2</td>\n",
       "      <td>Setosa</td>\n",
       "    </tr>\n",
       "  </tbody>\n",
       "</table>\n",
       "</div>"
      ],
      "text/plain": [
       "   sepal.length  sepal.width  petal.length  petal.width variety\n",
       "0           5.1          3.5           1.4          0.2  Setosa\n",
       "1           4.9          3.0           1.4          0.2  Setosa\n",
       "2           4.7          3.2           1.3          0.2  Setosa\n",
       "3           4.6          3.1           1.5          0.2  Setosa\n",
       "4           5.0          3.6           1.4          0.2  Setosa"
      ]
     },
     "execution_count": 2,
     "metadata": {},
     "output_type": "execute_result"
    }
   ],
   "source": [
    "# carregando dados \n",
    "path = 'iris.csv'\n",
    "iris = pd.read_csv(path)\n",
    "\n",
    "\n",
    "X = iris.drop('variety', axis=1)\n",
    "y = iris['variety']\n",
    "\n",
    "X_train, X_test, y_train, y_test = train_test_split(X,y, test_size=0.2, random_state=42)\n",
    "\n",
    "\n",
    "iris.head()"
   ]
  },
  {
   "cell_type": "markdown",
   "metadata": {},
   "source": [
    "<hr>\n",
    "<hr>\n",
    "\n",
    "## Standardization\n",
    "\n",
    "\n",
    "A StandardScaler assume os seus dados são normalmente distribuídos dentro de cada recurso e vai dimensioná-los de tal modo que a distribuição é agora centrada em torno de 0, com um desvio padrão de 1.\n",
    "\n",
    "O objetivo é alcançar uma Distribuição Normal para cada Feature do conjunto de dados, com média = 0 e desvio padrão e variância = 1. \n",
    "\n",
    "A média e o desvio padrão são calculados para o recurso e, em seguida, o recurso é escalado com base em:"
   ]
  },
  {
   "attachments": {
    "standard_formula.gif": {
     "image/gif": "[encoded data removed]"
    }
   },
   "cell_type": "markdown",
   "metadata": {},
   "source": [
    "![standard_formula.gif](attachment:standard_formula.gif)"
   ]
  },
  {
   "cell_type": "code",
   "execution_count": 3,
   "metadata": {},
   "outputs": [
    {
     "data": {
      "text/plain": [
       "array([[-1.47393679,  1.20365799, -1.56253475, -1.31260282],\n",
       "       [-0.13307079,  2.99237573, -1.27600637, -1.04563275],\n",
       "       [ 1.08589829,  0.08570939,  0.38585821,  0.28921757],\n",
       "       [-1.23014297,  0.75647855, -1.2187007 , -1.31260282],\n",
       "       [-1.7177306 ,  0.30929911, -1.39061772, -1.31260282]])"
      ]
     },
     "execution_count": 3,
     "metadata": {},
     "output_type": "execute_result"
    }
   ],
   "source": [
    "# Standard Scaler \n",
    "from sklearn.preprocessing import StandardScaler\n",
    "\n",
    "scaler = StandardScaler()\n",
    "\n",
    "X_train = scaler.fit_transform(X_train)\n",
    "X_test = scaler.transform(X_test)\n",
    "\n",
    "X_train[0:5]"
   ]
  },
  {
   "cell_type": "code",
   "execution_count": 4,
   "metadata": {},
   "outputs": [
    {
     "name": "stdout",
     "output_type": "stream",
     "text": [
      "Média:  [5.80916667 3.06166667 3.72666667 1.18333333]\n",
      "Variância:  [0.67299931 0.20003056 3.04512222 0.56122222]\n",
      "Desvio Padrão:  [0.82036535 0.44724776 1.74502786 0.74914766]\n"
     ]
    }
   ],
   "source": [
    "# Resultados \n",
    "print('Média: ', scaler.mean_)\n",
    "print('Variância: ', scaler.var_)\n",
    "print('Desvio Padrão: ', scaler.scale_)"
   ]
  },
  {
   "cell_type": "code",
   "execution_count": 5,
   "metadata": {},
   "outputs": [
    {
     "data": {
      "text/html": [
       "<div>\n",
       "<style scoped>\n",
       "    .dataframe tbody tr th:only-of-type {\n",
       "        vertical-align: middle;\n",
       "    }\n",
       "\n",
       "    .dataframe tbody tr th {\n",
       "        vertical-align: top;\n",
       "    }\n",
       "\n",
       "    .dataframe thead th {\n",
       "        text-align: right;\n",
       "    }\n",
       "</style>\n",
       "<table border=\"1\" class=\"dataframe\">\n",
       "  <thead>\n",
       "    <tr style=\"text-align: right;\">\n",
       "      <th></th>\n",
       "      <th>Features</th>\n",
       "      <th>Média</th>\n",
       "      <th>Variância</th>\n",
       "      <th>Desvio Padrão</th>\n",
       "    </tr>\n",
       "  </thead>\n",
       "  <tbody>\n",
       "    <tr>\n",
       "      <th>3</th>\n",
       "      <td>petal.width</td>\n",
       "      <td>1.183333</td>\n",
       "      <td>0.561222</td>\n",
       "      <td>0.749148</td>\n",
       "    </tr>\n",
       "    <tr>\n",
       "      <th>1</th>\n",
       "      <td>sepal.width</td>\n",
       "      <td>3.061667</td>\n",
       "      <td>0.200031</td>\n",
       "      <td>0.447248</td>\n",
       "    </tr>\n",
       "    <tr>\n",
       "      <th>2</th>\n",
       "      <td>petal.length</td>\n",
       "      <td>3.726667</td>\n",
       "      <td>3.045122</td>\n",
       "      <td>1.745028</td>\n",
       "    </tr>\n",
       "    <tr>\n",
       "      <th>0</th>\n",
       "      <td>sepal.length</td>\n",
       "      <td>5.809167</td>\n",
       "      <td>0.672999</td>\n",
       "      <td>0.820365</td>\n",
       "    </tr>\n",
       "  </tbody>\n",
       "</table>\n",
       "</div>"
      ],
      "text/plain": [
       "       Features     Média  Variância  Desvio Padrão\n",
       "3   petal.width  1.183333   0.561222       0.749148\n",
       "1   sepal.width  3.061667   0.200031       0.447248\n",
       "2  petal.length  3.726667   3.045122       1.745028\n",
       "0  sepal.length  5.809167   0.672999       0.820365"
      ]
     },
     "execution_count": 5,
     "metadata": {},
     "output_type": "execute_result"
    }
   ],
   "source": [
    "scaling = pd.DataFrame()\n",
    "scaling['Features'] = X.columns\n",
    "scaling['Média'] = scaler.mean_\n",
    "scaling['Variância'] = scaler.var_\n",
    "scaling['Desvio Padrão'] = scaler.scale_\n",
    "\n",
    "scaling.sort_values(by=['Média'],ascending=True, )"
   ]
  },
  {
   "cell_type": "markdown",
   "metadata": {},
   "source": [
    "<br>\n",
    "<hr>\n",
    "<hr>\n"
   ]
  },
  {
   "cell_type": "markdown",
   "metadata": {},
   "source": [
    "## Min Max Scaler\n",
    "\n",
    "MinMaxScaler escala os dados dentro de um intervalo de valores definidos por padrão é 0 e 1.  "
   ]
  },
  {
   "attachments": {
    "min_max_scaler.jpg": {
     "image/jpeg": "[encoded data removed]"
    }
   },
   "cell_type": "markdown",
   "metadata": {},
   "source": [
    "![min_max_scaler.jpg](attachment:min_max_scaler.jpg)"
   ]
  },
  {
   "cell_type": "code",
   "execution_count": 6,
   "metadata": {},
   "outputs": [],
   "source": [
    "# MinMaxScaler \n",
    "from sklearn.preprocessing import MinMaxScaler\n",
    "\n",
    "min_scaler = MinMaxScaler(feature_range=(0,1))\n",
    "\n",
    "X_train = min_scaler.fit_transform(X_train)\n",
    "X_test = min_scaler.transform(X_test)"
   ]
  },
  {
   "cell_type": "code",
   "execution_count": 7,
   "metadata": {
    "scrolled": false
   },
   "outputs": [
    {
     "data": {
      "text/plain": [
       "array([[0.08823529, 0.66666667, 0.        , 0.04166667],\n",
       "       [0.41176471, 1.        , 0.0877193 , 0.125     ],\n",
       "       [0.70588235, 0.45833333, 0.59649123, 0.54166667],\n",
       "       [0.14705882, 0.58333333, 0.10526316, 0.04166667],\n",
       "       [0.02941176, 0.5       , 0.05263158, 0.04166667]])"
      ]
     },
     "execution_count": 7,
     "metadata": {},
     "output_type": "execute_result"
    }
   ],
   "source": [
    "X_train[:5]"
   ]
  },
  {
   "cell_type": "code",
   "execution_count": 8,
   "metadata": {},
   "outputs": [
    {
     "data": {
      "text/plain": [
       "array([[0.52941176, 0.33333333, 0.64912281, 0.45833333],\n",
       "       [0.41176471, 0.75      , 0.12280702, 0.08333333],\n",
       "       [1.        , 0.25      , 1.03508772, 0.91666667],\n",
       "       [0.5       , 0.375     , 0.61403509, 0.58333333],\n",
       "       [0.73529412, 0.33333333, 0.66666667, 0.54166667]])"
      ]
     },
     "execution_count": 8,
     "metadata": {},
     "output_type": "execute_result"
    }
   ],
   "source": [
    "X_test[0:5]"
   ]
  },
  {
   "cell_type": "markdown",
   "metadata": {},
   "source": [
    "<br>\n",
    "<br>\n",
    "<hr>\n",
    "<hr>"
   ]
  },
  {
   "cell_type": "markdown",
   "metadata": {},
   "source": [
    "## RobustScaler \n",
    "\n",
    "Funciona de maneira semelhante ao StandardScaler, exceto pelo uso de mediana e quartis, em vez de média e variância. Bom, pois ignora os pontos de dados discrepantes.\n",
    "\n",
    "<b> Um ótimo Normalizador robusto para conjunto de dados que contém Outliers\n",
    "    <hr>"
   ]
  },
  {
   "cell_type": "code",
   "execution_count": 9,
   "metadata": {},
   "outputs": [],
   "source": [
    "from sklearn.preprocessing import RobustScaler \n",
    "\n",
    "robust = RobustScaler(quantile_range=(25.0, 75.0)) #\n",
    "\n",
    "X_train = robust.fit_transform(X_train)\n",
    "X_test = robust.transform(X_test)"
   ]
  },
  {
   "cell_type": "code",
   "execution_count": 10,
   "metadata": {},
   "outputs": [
    {
     "name": "stdout",
     "output_type": "stream",
     "text": [
      "Mediana:  [0.42647059 0.41666667 0.57017544 0.5       ]\n",
      "intervalo interquartil IQR:  [0.38235294 0.25       0.63157895 0.625     ]\n"
     ]
    }
   ],
   "source": [
    "# Mediana\n",
    "print('Mediana: ', robust.center_)\n",
    "print('intervalo interquartil IQR: ', robust.scale_)"
   ]
  },
  {
   "cell_type": "code",
   "execution_count": 11,
   "metadata": {},
   "outputs": [
    {
     "data": {
      "text/plain": [
       "array([[-0.88461538,  1.        , -0.90277778, -0.73333333],\n",
       "       [-0.03846154,  2.33333333, -0.76388889, -0.6       ],\n",
       "       [ 0.73076923,  0.16666667,  0.04166667,  0.06666667],\n",
       "       [-0.73076923,  0.66666667, -0.73611111, -0.73333333],\n",
       "       [-1.03846154,  0.33333333, -0.81944444, -0.73333333]])"
      ]
     },
     "execution_count": 11,
     "metadata": {},
     "output_type": "execute_result"
    }
   ],
   "source": [
    "X_train[0:5]"
   ]
  },
  {
   "cell_type": "markdown",
   "metadata": {},
   "source": [
    "<br>\n",
    "<hr>\n",
    "<hr>"
   ]
  },
  {
   "cell_type": "markdown",
   "metadata": {},
   "source": [
    "## Nomalizer \n",
    "\n",
    "Normalize as amostras individualmente para a norma da unidade.\n",
    "\n",
    "Cada amostra (ou seja, cada linha da matriz de dados) com pelo menos um componente diferente de zero é redimensionada independentemente de outras amostras, de modo que sua norma (l1 ou l2) seja igual a uma."
   ]
  },
  {
   "cell_type": "code",
   "execution_count": 12,
   "metadata": {},
   "outputs": [],
   "source": [
    "from sklearn.preprocessing import Normalizer \n",
    "\n",
    "normalizer = Normalizer(norm='l2') # Norm = l1 , l2(padrão), max \n",
    "\n",
    "X_train = normalizer.fit_transform(X_train)\n",
    "X_test = normalizer.transform(X_test)"
   ]
  },
  {
   "cell_type": "code",
   "execution_count": 13,
   "metadata": {},
   "outputs": [
    {
     "data": {
      "text/plain": [
       "array([[-0.499589  ,  0.56475278, -0.50984626, -0.41415204],\n",
       "       [-0.0152158 ,  0.92309213, -0.30220278, -0.23736655],\n",
       "       [ 0.96964545,  0.22114721,  0.0552868 ,  0.08845888],\n",
       "       [-0.50938534,  0.46470241, -0.51310892, -0.51117266],\n",
       "       [-0.67049442,  0.21522043, -0.52908356, -0.47348495]])"
      ]
     },
     "execution_count": 13,
     "metadata": {},
     "output_type": "execute_result"
    }
   ],
   "source": [
    "X_train[:5]"
   ]
  },
  {
   "cell_type": "markdown",
   "metadata": {},
   "source": [
    "<br>\n",
    "<hr>\n",
    "\n",
    "#### Diferença entre Padronizadores - Normalizadores"
   ]
  },
  {
   "attachments": {
    "feature_scaling.png": {
     "image/png": "[encoded data removed]"
    }
   },
   "cell_type": "markdown",
   "metadata": {},
   "source": [
    "![feature_scaling.png](attachment:feature_scaling.png)"
   ]
  },
  {
   "cell_type": "markdown",
   "metadata": {},
   "source": [
    "<br>\n",
    "<br>\n",
    "<hr>\n",
    "<hr>\n"
   ]
  },
  {
   "cell_type": "markdown",
   "metadata": {},
   "source": [
    "## MaxAbsScaler\n",
    "\n",
    "Escala cada Feature pelo seu valor absoluto máximo. \n",
    "\n",
    "Esse normalizador dimensiona e traduz cada Feature individualmente, de modo que o valor absoluto máximo de cada Feature no conjunto de treinamento seja 1,0. Ele não desloca / centraliza os dados e, portanto, não destrói nenhuma dispersão."
   ]
  },
  {
   "cell_type": "code",
   "execution_count": 14,
   "metadata": {},
   "outputs": [],
   "source": [
    "from sklearn.preprocessing import MaxAbsScaler \n",
    "\n",
    "max_scaler = MaxAbsScaler()\n",
    "\n",
    "X_train = max_scaler.fit_transform(X_train)\n",
    "X_test = max_scaler.transform(X_test)"
   ]
  },
  {
   "cell_type": "code",
   "execution_count": 15,
   "metadata": {},
   "outputs": [
    {
     "name": "stdout",
     "output_type": "stream",
     "text": [
      "Escala:  [0.99284897 0.98812536 0.64988257 0.87269644]\n",
      "Valor Absoluto:  [0.99284897 0.98812536 0.64988257 0.87269644]\n"
     ]
    }
   ],
   "source": [
    "print('Escala: ', max_scaler.scale_)\n",
    "print('Valor Absoluto: ', max_scaler.max_abs_)"
   ]
  },
  {
   "cell_type": "markdown",
   "metadata": {},
   "source": [
    "<br>\n",
    "<br>\n",
    "<hr>\n",
    "<hr>\n",
    "<hr>"
   ]
  },
  {
   "cell_type": "markdown",
   "metadata": {},
   "source": [
    "## PowerTransformer\n",
    "\n",
    "Aplique uma transformação de potência featurewise para tornar os dados mais semelhantes aos gaussianos.\n",
    "\n",
    "As transformações de potência são uma família de transformações paramétricas e monotônicas que são aplicadas para tornar os dados mais semelhantes aos gaussianos. Isso é útil para modelar problemas relacionados à heterocedasticidade (variação não constante) ou outras situações em que a normalidade é desejada.\n",
    "<br>\n",
    "\n",
    "Observe que o Box-Cox só pode ser aplicado a dados estritamente positivos. mas se houver valores negativos, a Yeo-Johnson transformada é a preferida.\n",
    "\n",
    "\n",
    "\n",
    "<b> A PowerTransformer é útil como uma transformação em problemas de modelagem onde se deseja homocedasticidade e normalidade </b>"
   ]
  },
  {
   "cell_type": "code",
   "execution_count": 16,
   "metadata": {},
   "outputs": [],
   "source": [
    "from sklearn.preprocessing import PowerTransformer\n",
    "\n",
    "power = PowerTransformer(method='yeo-johnson') # box-cox e yeo-johnson \n",
    "\n",
    "X_train = power.fit_transform(X_train)\n",
    "X_test = power.transform(X_test)"
   ]
  },
  {
   "cell_type": "code",
   "execution_count": 17,
   "metadata": {},
   "outputs": [
    {
     "name": "stdout",
     "output_type": "stream",
     "text": [
      "[0.66049305 1.40436612 1.37908902 0.81312289]\n"
     ]
    }
   ],
   "source": [
    "# Os parâmetros da transformação de energia para as Features selecionados.\n",
    "print(power.lambdas_) "
   ]
  },
  {
   "cell_type": "markdown",
   "metadata": {},
   "source": [
    "<br>\n",
    "<br>\n",
    "<hr>\n",
    "<hr>\n",
    "<hr>"
   ]
  },
  {
   "cell_type": "markdown",
   "metadata": {},
   "source": [
    "## QuantileTransformer\n",
    "\n",
    "Transforma as Features usando informações de quantis.\n",
    "\n",
    "Este método transforma as Features para seguir uma distribuição uniforme ou normal. Portanto, para uma determinada Feature, essa transformação tende a espalhar os valores mais frequentes. Também reduz o impacto de outliers (marginais): esse é, portanto, um esquema robusto de pré-processamento.\n",
    "\n",
    "\n",
    "A transformação é aplicada em cada Feature de forma independente. Primeiro, uma estimativa da função de distribuição cumulativa de um recurso é usada para mapear os valores originais para uma distribuição uniforme. Os valores obtidos são então mapeados para a distribuição de saída desejada usando a função quantil associada. Os valores das Variáveis de dados novos / não vistos que caem abaixo ou acima do intervalo ajustado serão mapeados para os limites da distribuição de saída. Observe que essa transformação é não linear. Pode distorcer correlações lineares entre variáveis medidas na mesma escala, mas torna as variáveis medidas em escalas diferentes mais diretamente comparáveis."
   ]
  },
  {
   "cell_type": "code",
   "execution_count": 18,
   "metadata": {},
   "outputs": [],
   "source": [
    "from sklearn.preprocessing import QuantileTransformer \n",
    "\n",
    "quantile = QuantileTransformer() # output_distribution = (uniform, normal) \n",
    "                                 # n_quantiles = Número de quantis a serem calculados para a função de distribuição cumulativa\n",
    "\n",
    "X_train = quantile.fit_transform(X_train)\n",
    "X_test = quantile.transform(X_test)"
   ]
  },
  {
   "cell_type": "code",
   "execution_count": 19,
   "metadata": {},
   "outputs": [
    {
     "name": "stdout",
     "output_type": "stream",
     "text": [
      "Número de Quartis:  120\n",
      "Quartis valores:  [[-2.08590617 -1.50393577 -1.49109417 -2.13080106]\n",
      " [-1.93053273 -1.50093956 -1.44341147 -1.51809073]\n",
      " [-1.51652474 -1.49982706 -1.4373264  -1.44320709]\n",
      " [-1.51086396 -1.4903471  -1.42621756 -1.43357152]\n",
      " [-1.50783528 -1.48546104 -1.40268071 -1.42632023]\n",
      " [-1.4753751  -1.48473934 -1.38234246 -1.37865193]\n",
      " [-1.40076036 -1.48173137 -1.36762916 -1.35889844]\n",
      " [-1.39908898 -1.48173137 -1.34900773 -1.34277548]\n",
      " [-1.35738542 -1.47564282 -1.31511792 -1.33205741]\n",
      " [-1.34050967 -1.46004337 -1.31322226 -1.30155531]\n",
      " [-1.31563258 -1.45820765 -1.29767522 -1.28995446]\n",
      " [-1.28559369 -1.44004047 -1.29305952 -1.28624908]\n",
      " [-1.26728733 -1.43077831 -1.28602527 -1.27593445]\n",
      " [-1.16490345 -1.41858885 -1.28043665 -1.26861683]\n",
      " [-1.15843445 -1.40922358 -1.27791379 -1.24821347]\n",
      " [-1.15203871 -1.34563756 -1.27564195 -1.24819337]\n",
      " [-1.15073451 -1.34335075 -1.26584198 -1.23252309]\n",
      " [-1.14534049 -1.32288693 -1.25849386 -1.1983844 ]\n",
      " [-1.12656429 -1.27902292 -1.25648621 -1.18808737]\n",
      " [-1.10574853 -1.26385393 -1.24920689 -1.18625139]\n",
      " [-1.08918752 -1.26162286 -1.23066055 -1.18168779]\n",
      " [-1.07574593 -1.25683143 -1.22249223 -1.15304933]\n",
      " [-1.06533317 -1.25382363 -1.21556103 -1.14495551]\n",
      " [-0.98546132 -1.20878213 -1.19547849 -1.1432017 ]\n",
      " [-0.98197584 -1.19981268 -1.18827045 -1.12929353]\n",
      " [-0.9726934  -1.18593283 -1.16859738 -1.11607883]\n",
      " [-0.96253607 -1.15853396 -1.12711911 -1.10751312]\n",
      " [-0.95836144 -1.15853396 -1.117352   -1.10554568]\n",
      " [-0.93566039 -1.0596662  -1.11729705 -1.06831724]\n",
      " [-0.89336652 -1.01989408 -1.10753473 -1.00887638]\n",
      " [-0.88453799 -0.94376392 -1.09598428 -1.00424042]\n",
      " [-0.83701022 -0.90555395 -1.04889375 -0.907719  ]\n",
      " [-0.82469496 -0.90363003 -1.04179432 -0.89271585]\n",
      " [-0.79824012 -0.89352356 -0.99069967 -0.88574812]\n",
      " [-0.7821088  -0.8074329  -0.9811371  -0.88213155]\n",
      " [-0.73829168 -0.79984078 -0.93389767 -0.87317022]\n",
      " [-0.72527147 -0.7301105  -0.91593592 -0.86379728]\n",
      " [-0.71801542 -0.67469681 -0.82505904 -0.84256542]\n",
      " [-0.69113971 -0.55143748 -0.81833155 -0.81078225]\n",
      " [-0.68813638 -0.44184358 -0.80081033 -0.78951994]\n",
      " [-0.65904315 -0.43921845 -0.7868037  -0.77454141]\n",
      " [-0.6424691  -0.41229553 -0.71227391 -0.66008624]\n",
      " [-0.54149747 -0.35390416 -0.67439065 -0.56862792]\n",
      " [-0.54019954 -0.24005786 -0.49545481 -0.45562211]\n",
      " [-0.54019954 -0.22217017 -0.45488036 -0.38507241]\n",
      " [-0.52374426 -0.03464477 -0.40758239 -0.35539995]\n",
      " [-0.52133401 -0.03464477 -0.36317891 -0.34999701]\n",
      " [-0.48048912 -0.03464477 -0.32787177 -0.30753447]\n",
      " [-0.46995052 -0.03464477 -0.32674373 -0.30577087]\n",
      " [-0.46486594 -0.03464477 -0.2692722  -0.26716411]\n",
      " [-0.45987962 -0.03464477 -0.26305784 -0.23609416]\n",
      " [-0.43078505 -0.03464477 -0.25207925 -0.22817974]\n",
      " [-0.41895151 -0.03464477 -0.21668041 -0.00423755]\n",
      " [-0.39664531 -0.03464477 -0.1590817  -0.00423755]\n",
      " [-0.38914963 -0.03464477 -0.1590817  -0.00423755]\n",
      " [-0.32505165 -0.03464477 -0.15273526 -0.00423755]\n",
      " [-0.26887492 -0.03464477 -0.1485764  -0.00423755]\n",
      " [-0.20940527 -0.03464477 -0.1000071  -0.00423755]\n",
      " [-0.18397232 -0.03464477 -0.07943401 -0.00423755]\n",
      " [-0.13902284 -0.03464477 -0.01515521 -0.00423755]\n",
      " [-0.07555442 -0.03464477  0.1318369  -0.00423755]\n",
      " [-0.02688339 -0.03464477  0.15203655 -0.00423755]\n",
      " [-0.00780952 -0.03464477  0.15925862 -0.00423755]\n",
      " [-0.00780952 -0.03464477  0.21338249  0.14544078]\n",
      " [-0.00646896 -0.03464477  0.22584308  0.18445672]\n",
      " [ 0.01890142 -0.03464477  0.23610011  0.1993429 ]\n",
      " [ 0.14280478  0.17812695  0.23661277  0.21960302]\n",
      " [ 0.14389352  0.2014431   0.32945804  0.22603818]\n",
      " [ 0.29351648  0.23239351  0.37715975  0.22844218]\n",
      " [ 0.35920816  0.23732857  0.40514746  0.31344673]\n",
      " [ 0.37069081  0.2876991   0.46413787  0.32473043]\n",
      " [ 0.43676923  0.35404834  0.46703837  0.37264855]\n",
      " [ 0.46634582  0.35556925  0.49528289  0.39025902]\n",
      " [ 0.47046491  0.36518087  0.52491798  0.43365515]\n",
      " [ 0.48690838  0.38627931  0.60275547  0.43826107]\n",
      " [ 0.53619568  0.38846489  0.62329638  0.48516042]\n",
      " [ 0.53701104  0.39568034  0.64200271  0.49822191]\n",
      " [ 0.59796935  0.43006232  0.67926395  0.51094885]\n",
      " [ 0.65116233  0.43050439  0.71693291  0.54643182]\n",
      " [ 0.69067216  0.46186027  0.758287    0.5483056 ]\n",
      " [ 0.7959118   0.56264334  0.8023097   0.57448204]\n",
      " [ 0.84250045  0.6188525   0.82088913  0.60124781]\n",
      " [ 0.86406963  0.66813642  0.890875    0.61197665]\n",
      " [ 0.87451617  0.70526434  0.91820064  0.61335241]\n",
      " [ 0.87604062  0.78647317  0.92571321  0.6192127 ]\n",
      " [ 0.93903992  0.79074281  0.93498411  0.72198224]\n",
      " [ 0.9461888   0.79298851  0.9471853   0.7238052 ]\n",
      " [ 0.95217481  0.81278594  0.95196865  0.74098125]\n",
      " [ 0.98920502  0.8410718   0.96096831  0.85931733]\n",
      " [ 0.99518136  0.86875544  0.97975335  0.86392454]\n",
      " [ 0.99911547  0.87990959  0.97995414  0.94536815]\n",
      " [ 1.03374841  0.90216086  1.01430365  0.96076709]\n",
      " [ 1.06382152  0.90998706  1.04275274  0.97814405]\n",
      " [ 1.06548969  0.98350529  1.0432879   0.98499389]\n",
      " [ 1.09719028  0.99124117  1.04959576  1.00053581]\n",
      " [ 1.11304168  1.04406261  1.06337534  1.02742537]\n",
      " [ 1.16695838  1.04645958  1.06873391  1.03515562]\n",
      " [ 1.17953294  1.05577285  1.07176054  1.05657589]\n",
      " [ 1.19371694  1.06536934  1.07250171  1.06458997]\n",
      " [ 1.22655689  1.08720951  1.09681262  1.0790446 ]\n",
      " [ 1.22873095  1.09280563  1.09681262  1.08921586]\n",
      " [ 1.25796546  1.09921975  1.11417734  1.14549162]\n",
      " [ 1.27668594  1.13141522  1.12844675  1.19991301]\n",
      " [ 1.29816676  1.13951738  1.14523479  1.21512663]\n",
      " [ 1.30596832  1.16938545  1.15410508  1.28648509]\n",
      " [ 1.30651564  1.18874633  1.16186516  1.28648509]\n",
      " [ 1.31548324  1.18924139  1.16510071  1.30200223]\n",
      " [ 1.31861354  1.23667337  1.17340365  1.38614157]\n",
      " [ 1.32397482  1.38279825  1.18502529  1.39166465]\n",
      " [ 1.36615128  1.39723957  1.21485561  1.40744898]\n",
      " [ 1.37655926  1.39732099  1.24291252  1.43344069]\n",
      " [ 1.38931338  1.45481142  1.24737034  1.44047097]\n",
      " [ 1.39535745  1.53906996  1.25764014  1.52749012]\n",
      " [ 1.41853509  1.59245786  1.32419025  1.53445627]\n",
      " [ 1.43533473  1.6161041   1.35976339  1.54037641]\n",
      " [ 1.43701575  1.63887094  1.47850474  1.63867861]\n",
      " [ 1.44461209  1.6402352   1.48269045  1.6560992 ]\n",
      " [ 1.45283264  1.72130449  1.56515275  1.70361007]\n",
      " [ 1.46829718  1.81596318  1.79682121  1.74428492]\n",
      " [ 1.50225702  1.82522959  1.80532936  1.88279172]]\n"
     ]
    }
   ],
   "source": [
    "# O número real de quantis usados para discretizar a função de distribuição cumulativa\n",
    "print('Número de Quartis: ', quantile.n_quantiles_)\n",
    "\n",
    "# Valores dos Quartis \n",
    "print('Quartis valores: ', quantile.quantiles_)"
   ]
  },
  {
   "cell_type": "markdown",
   "metadata": {},
   "source": [
    "<br>\n",
    "<br>\n",
    "<hr>\n",
    "<hr>\n",
    "<hr>"
   ]
  }
 ],
 "metadata": {
  "kernelspec": {
   "display_name": "Python 3",
   "language": "python",
   "name": "python3"
  },
  "language_info": {
   "codemirror_mode": {
    "name": "ipython",
    "version": 3
   },
   "file_extension": ".py",
   "mimetype": "text/x-python",
   "name": "python",
   "nbconvert_exporter": "python",
   "pygments_lexer": "ipython3",
   "version": "3.6.5"
  }
 },
 "nbformat": 4,
 "nbformat_minor": 4
}

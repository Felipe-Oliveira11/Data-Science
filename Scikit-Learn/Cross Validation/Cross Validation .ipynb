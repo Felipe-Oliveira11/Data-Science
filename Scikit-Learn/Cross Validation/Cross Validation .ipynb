{
 "cells": [
  {
   "cell_type": "markdown",
   "metadata": {},
   "source": [
    "### Cross Validation \n",
    "<hr>"
   ]
  },
  {
   "cell_type": "markdown",
   "metadata": {},
   "source": [
    "\n",
    "<p align=center>\n",
    "<img src=\"https://ethen8181.github.io/machine-learning/model_selection/img/kfolds.png\" width=\"60%\"></p>"
   ]
  },
  {
   "cell_type": "markdown",
   "metadata": {},
   "source": [
    "<br>"
   ]
  },
  {
   "cell_type": "code",
   "execution_count": 1,
   "metadata": {},
   "outputs": [],
   "source": [
    "import numpy as np \n",
    "import pandas as pd \n",
    "import matplotlib.pyplot as plt\n",
    "import seaborn as sns \n",
    "\n",
    "from sklearn.model_selection import train_test_split, cross_val_score \n",
    "from sklearn.preprocessing import LabelEncoder, MinMaxScaler\n",
    "from sklearn.linear_model import LogisticRegression\n",
    "from sklearn.metrics import classification_report, accuracy_score, precision_score\n",
    "from sklearn.model_selection import ShuffleSplit\n",
    "\n",
    "%matplotlib inline \n",
    "\n",
    "import warnings \n",
    "warnings.filterwarnings('ignore')"
   ]
  },
  {
   "cell_type": "code",
   "execution_count": 2,
   "metadata": {},
   "outputs": [
    {
     "data": {
      "text/html": [
       "<div>\n",
       "<style scoped>\n",
       "    .dataframe tbody tr th:only-of-type {\n",
       "        vertical-align: middle;\n",
       "    }\n",
       "\n",
       "    .dataframe tbody tr th {\n",
       "        vertical-align: top;\n",
       "    }\n",
       "\n",
       "    .dataframe thead th {\n",
       "        text-align: right;\n",
       "    }\n",
       "</style>\n",
       "<table border=\"1\" class=\"dataframe\">\n",
       "  <thead>\n",
       "    <tr style=\"text-align: right;\">\n",
       "      <th></th>\n",
       "      <th>id</th>\n",
       "      <th>diagnosis</th>\n",
       "      <th>radius_mean</th>\n",
       "      <th>texture_mean</th>\n",
       "      <th>perimeter_mean</th>\n",
       "      <th>area_mean</th>\n",
       "      <th>smoothness_mean</th>\n",
       "      <th>compactness_mean</th>\n",
       "      <th>concavity_mean</th>\n",
       "      <th>concave points_mean</th>\n",
       "      <th>...</th>\n",
       "      <th>texture_worst</th>\n",
       "      <th>perimeter_worst</th>\n",
       "      <th>area_worst</th>\n",
       "      <th>smoothness_worst</th>\n",
       "      <th>compactness_worst</th>\n",
       "      <th>concavity_worst</th>\n",
       "      <th>concave points_worst</th>\n",
       "      <th>symmetry_worst</th>\n",
       "      <th>fractal_dimension_worst</th>\n",
       "      <th>Unnamed: 32</th>\n",
       "    </tr>\n",
       "  </thead>\n",
       "  <tbody>\n",
       "    <tr>\n",
       "      <th>0</th>\n",
       "      <td>842302</td>\n",
       "      <td>M</td>\n",
       "      <td>17.99</td>\n",
       "      <td>10.38</td>\n",
       "      <td>122.80</td>\n",
       "      <td>1001.0</td>\n",
       "      <td>0.11840</td>\n",
       "      <td>0.27760</td>\n",
       "      <td>0.3001</td>\n",
       "      <td>0.14710</td>\n",
       "      <td>...</td>\n",
       "      <td>17.33</td>\n",
       "      <td>184.60</td>\n",
       "      <td>2019.0</td>\n",
       "      <td>0.1622</td>\n",
       "      <td>0.6656</td>\n",
       "      <td>0.7119</td>\n",
       "      <td>0.2654</td>\n",
       "      <td>0.4601</td>\n",
       "      <td>0.11890</td>\n",
       "      <td>NaN</td>\n",
       "    </tr>\n",
       "    <tr>\n",
       "      <th>1</th>\n",
       "      <td>842517</td>\n",
       "      <td>M</td>\n",
       "      <td>20.57</td>\n",
       "      <td>17.77</td>\n",
       "      <td>132.90</td>\n",
       "      <td>1326.0</td>\n",
       "      <td>0.08474</td>\n",
       "      <td>0.07864</td>\n",
       "      <td>0.0869</td>\n",
       "      <td>0.07017</td>\n",
       "      <td>...</td>\n",
       "      <td>23.41</td>\n",
       "      <td>158.80</td>\n",
       "      <td>1956.0</td>\n",
       "      <td>0.1238</td>\n",
       "      <td>0.1866</td>\n",
       "      <td>0.2416</td>\n",
       "      <td>0.1860</td>\n",
       "      <td>0.2750</td>\n",
       "      <td>0.08902</td>\n",
       "      <td>NaN</td>\n",
       "    </tr>\n",
       "    <tr>\n",
       "      <th>2</th>\n",
       "      <td>84300903</td>\n",
       "      <td>M</td>\n",
       "      <td>19.69</td>\n",
       "      <td>21.25</td>\n",
       "      <td>130.00</td>\n",
       "      <td>1203.0</td>\n",
       "      <td>0.10960</td>\n",
       "      <td>0.15990</td>\n",
       "      <td>0.1974</td>\n",
       "      <td>0.12790</td>\n",
       "      <td>...</td>\n",
       "      <td>25.53</td>\n",
       "      <td>152.50</td>\n",
       "      <td>1709.0</td>\n",
       "      <td>0.1444</td>\n",
       "      <td>0.4245</td>\n",
       "      <td>0.4504</td>\n",
       "      <td>0.2430</td>\n",
       "      <td>0.3613</td>\n",
       "      <td>0.08758</td>\n",
       "      <td>NaN</td>\n",
       "    </tr>\n",
       "    <tr>\n",
       "      <th>3</th>\n",
       "      <td>84348301</td>\n",
       "      <td>M</td>\n",
       "      <td>11.42</td>\n",
       "      <td>20.38</td>\n",
       "      <td>77.58</td>\n",
       "      <td>386.1</td>\n",
       "      <td>0.14250</td>\n",
       "      <td>0.28390</td>\n",
       "      <td>0.2414</td>\n",
       "      <td>0.10520</td>\n",
       "      <td>...</td>\n",
       "      <td>26.50</td>\n",
       "      <td>98.87</td>\n",
       "      <td>567.7</td>\n",
       "      <td>0.2098</td>\n",
       "      <td>0.8663</td>\n",
       "      <td>0.6869</td>\n",
       "      <td>0.2575</td>\n",
       "      <td>0.6638</td>\n",
       "      <td>0.17300</td>\n",
       "      <td>NaN</td>\n",
       "    </tr>\n",
       "    <tr>\n",
       "      <th>4</th>\n",
       "      <td>84358402</td>\n",
       "      <td>M</td>\n",
       "      <td>20.29</td>\n",
       "      <td>14.34</td>\n",
       "      <td>135.10</td>\n",
       "      <td>1297.0</td>\n",
       "      <td>0.10030</td>\n",
       "      <td>0.13280</td>\n",
       "      <td>0.1980</td>\n",
       "      <td>0.10430</td>\n",
       "      <td>...</td>\n",
       "      <td>16.67</td>\n",
       "      <td>152.20</td>\n",
       "      <td>1575.0</td>\n",
       "      <td>0.1374</td>\n",
       "      <td>0.2050</td>\n",
       "      <td>0.4000</td>\n",
       "      <td>0.1625</td>\n",
       "      <td>0.2364</td>\n",
       "      <td>0.07678</td>\n",
       "      <td>NaN</td>\n",
       "    </tr>\n",
       "  </tbody>\n",
       "</table>\n",
       "<p>5 rows × 33 columns</p>\n",
       "</div>"
      ],
      "text/plain": [
       "         id diagnosis  radius_mean  texture_mean  perimeter_mean  area_mean  \\\n",
       "0    842302         M        17.99         10.38          122.80     1001.0   \n",
       "1    842517         M        20.57         17.77          132.90     1326.0   \n",
       "2  84300903         M        19.69         21.25          130.00     1203.0   \n",
       "3  84348301         M        11.42         20.38           77.58      386.1   \n",
       "4  84358402         M        20.29         14.34          135.10     1297.0   \n",
       "\n",
       "   smoothness_mean  compactness_mean  concavity_mean  concave points_mean  \\\n",
       "0          0.11840           0.27760          0.3001              0.14710   \n",
       "1          0.08474           0.07864          0.0869              0.07017   \n",
       "2          0.10960           0.15990          0.1974              0.12790   \n",
       "3          0.14250           0.28390          0.2414              0.10520   \n",
       "4          0.10030           0.13280          0.1980              0.10430   \n",
       "\n",
       "   ...  texture_worst  perimeter_worst  area_worst  smoothness_worst  \\\n",
       "0  ...          17.33           184.60      2019.0            0.1622   \n",
       "1  ...          23.41           158.80      1956.0            0.1238   \n",
       "2  ...          25.53           152.50      1709.0            0.1444   \n",
       "3  ...          26.50            98.87       567.7            0.2098   \n",
       "4  ...          16.67           152.20      1575.0            0.1374   \n",
       "\n",
       "   compactness_worst  concavity_worst  concave points_worst  symmetry_worst  \\\n",
       "0             0.6656           0.7119                0.2654          0.4601   \n",
       "1             0.1866           0.2416                0.1860          0.2750   \n",
       "2             0.4245           0.4504                0.2430          0.3613   \n",
       "3             0.8663           0.6869                0.2575          0.6638   \n",
       "4             0.2050           0.4000                0.1625          0.2364   \n",
       "\n",
       "   fractal_dimension_worst  Unnamed: 32  \n",
       "0                  0.11890          NaN  \n",
       "1                  0.08902          NaN  \n",
       "2                  0.08758          NaN  \n",
       "3                  0.17300          NaN  \n",
       "4                  0.07678          NaN  \n",
       "\n",
       "[5 rows x 33 columns]"
      ]
     },
     "execution_count": 2,
     "metadata": {},
     "output_type": "execute_result"
    }
   ],
   "source": [
    "data = pd.read_csv('data.csv')\n",
    "data.head()"
   ]
  },
  {
   "cell_type": "code",
   "execution_count": 3,
   "metadata": {},
   "outputs": [],
   "source": [
    "data.drop('Unnamed: 32', axis=1, inplace=True)"
   ]
  },
  {
   "cell_type": "code",
   "execution_count": 4,
   "metadata": {},
   "outputs": [],
   "source": [
    "X = data.drop('diagnosis', axis=1)\n",
    "y= data['diagnosis']\n",
    "\n",
    "# Enconding \n",
    "label = LabelEncoder()\n",
    "y = label.fit_transform(y)\n",
    "\n",
    "# Normalização \n",
    "scaler = MinMaxScaler()\n",
    "X = scaler.fit_transform(X)\n",
    "\n",
    "# split \n",
    "X_train, X_test, y_train, y_test = train_test_split(X,y, test_size=0.30, random_state=14)"
   ]
  },
  {
   "cell_type": "code",
   "execution_count": 5,
   "metadata": {
    "scrolled": true
   },
   "outputs": [
    {
     "name": "stdout",
     "output_type": "stream",
     "text": [
      "              precision    recall  f1-score   support\n",
      "\n",
      "           0       0.96      0.99      0.97       108\n",
      "           1       0.98      0.92      0.95        63\n",
      "\n",
      "    accuracy                           0.96       171\n",
      "   macro avg       0.97      0.96      0.96       171\n",
      "weighted avg       0.97      0.96      0.96       171\n",
      "\n"
     ]
    }
   ],
   "source": [
    "# Regressão logística \n",
    "mdl = LogisticRegression(random_state=14, class_weight='balanced')\n",
    "mdl.fit(X_train, y_train)\n",
    "y_pred = mdl.predict(X_test)\n",
    "\n",
    "print(classification_report(y_test, y_pred))"
   ]
  },
  {
   "cell_type": "markdown",
   "metadata": {},
   "source": [
    "<br>\n",
    "<br>\n",
    "<hr>\n",
    "<hr>\n",
    "<br>\n",
    "<hr>"
   ]
  },
  {
   "cell_type": "markdown",
   "metadata": {},
   "source": [
    "### Cross Val Score \n",
    "<hr>\n",
    "\n",
    "Cross_val_score pode englobar qualquer função de Folds, é útil para testar diferentes técnicas e abordagens sobre a validação cruzada. "
   ]
  },
  {
   "cell_type": "code",
   "execution_count": 6,
   "metadata": {},
   "outputs": [],
   "source": [
    "from sklearn.model_selection import cross_val_score"
   ]
  },
  {
   "cell_type": "code",
   "execution_count": 7,
   "metadata": {},
   "outputs": [],
   "source": [
    "# Cross validation \n",
    "score = cross_val_score(mdl, X,y, cv=5, scoring='precision')"
   ]
  },
  {
   "cell_type": "code",
   "execution_count": 8,
   "metadata": {},
   "outputs": [],
   "source": [
    "# Possibilidade de usar dentro do Cross_val_score \n",
    "# KFold \n",
    "# StratifiedKFold \n",
    "# ShuffleSplit \n",
    "\n",
    "score = cross_val_score(mdl, X,y, cv=ShuffleSplit(n_splits=5, test_size=0.30, random_state=14), scoring='precision')"
   ]
  },
  {
   "cell_type": "code",
   "execution_count": 9,
   "metadata": {},
   "outputs": [
    {
     "data": {
      "text/plain": [
       "array([0.98305085, 0.98550725, 0.92982456, 0.95652174, 0.98113208])"
      ]
     },
     "execution_count": 9,
     "metadata": {},
     "output_type": "execute_result"
    }
   ],
   "source": [
    "# lista de modelos \n",
    "score"
   ]
  },
  {
   "cell_type": "code",
   "execution_count": 10,
   "metadata": {},
   "outputs": [
    {
     "data": {
      "text/plain": [
       "0.967207293968016"
      ]
     },
     "execution_count": 10,
     "metadata": {},
     "output_type": "execute_result"
    }
   ],
   "source": [
    "# Média \n",
    "score.mean()"
   ]
  },
  {
   "cell_type": "markdown",
   "metadata": {},
   "source": [
    "<br>\n",
    "<hr>\n",
    "<hr>\n",
    "<br>"
   ]
  },
  {
   "cell_type": "markdown",
   "metadata": {},
   "source": [
    "### K-Fold \n",
    "<hr>"
   ]
  },
  {
   "cell_type": "code",
   "execution_count": 11,
   "metadata": {},
   "outputs": [],
   "source": [
    "from sklearn.model_selection import KFold"
   ]
  },
  {
   "cell_type": "code",
   "execution_count": 12,
   "metadata": {},
   "outputs": [
    {
     "name": "stdout",
     "output_type": "stream",
     "text": [
      "Treino:  455\n",
      "Test:  114\n",
      "Precision:  0.9743589743589743\n",
      "\n",
      "Treino:  455\n",
      "Test:  114\n",
      "Precision:  0.9545454545454546\n",
      "\n",
      "Treino:  455\n",
      "Test:  114\n",
      "Precision:  0.9767441860465116\n",
      "\n",
      "Treino:  455\n",
      "Test:  114\n",
      "Precision:  0.9523809523809523\n",
      "\n",
      "Treino:  456\n",
      "Test:  113\n",
      "Precision:  0.9761904761904762\n",
      "\n"
     ]
    }
   ],
   "source": [
    "# Definindo folds \n",
    "kf = KFold(5, shuffle=True, random_state=14)\n",
    "\n",
    "resultados = []\n",
    "\n",
    "for linhas_treino, linhas_teste in kf.split(X):\n",
    "    print('Treino: ', linhas_treino.shape[0])\n",
    "    print('Test: ', linhas_teste.shape[0])\n",
    "    \n",
    "    X_treino, X_teste = X[linhas_treino], X[linhas_teste]\n",
    "    y_treino, y_teste = y[linhas_treino], y[linhas_teste]\n",
    "    \n",
    "    mdl = LogisticRegression(random_state=14, class_weight='balanced')\n",
    "    mdl.fit(X_treino, y_treino)\n",
    "    y_pred = mdl.predict(X_teste)\n",
    "    \n",
    "    # Precision \n",
    "    metric = precision_score(y_teste, y_pred)\n",
    "    resultados.append(metric)\n",
    "    print('Precision: ', metric)\n",
    "    print()"
   ]
  },
  {
   "cell_type": "code",
   "execution_count": 13,
   "metadata": {},
   "outputs": [
    {
     "data": {
      "text/plain": [
       "[0.9743589743589743,\n",
       " 0.9545454545454546,\n",
       " 0.9767441860465116,\n",
       " 0.9523809523809523,\n",
       " 0.9761904761904762]"
      ]
     },
     "execution_count": 13,
     "metadata": {},
     "output_type": "execute_result"
    }
   ],
   "source": [
    "# Metrics em cada fold \n",
    "resultados"
   ]
  },
  {
   "cell_type": "code",
   "execution_count": 14,
   "metadata": {},
   "outputs": [
    {
     "data": {
      "text/plain": [
       "(0.9668440087044738, 0.010975236738027146)"
      ]
     },
     "execution_count": 14,
     "metadata": {},
     "output_type": "execute_result"
    }
   ],
   "source": [
    "# média e desvio padrão\n",
    "np.mean(resultados), np.std(resultados)"
   ]
  },
  {
   "cell_type": "markdown",
   "metadata": {},
   "source": [
    "<hr>\n",
    "<br>\n",
    "<hr>\n",
    "<hr>"
   ]
  },
  {
   "cell_type": "markdown",
   "metadata": {},
   "source": [
    "### Repetição de KFolds \n",
    "<br>\n",
    "Validação Alterando a <b> Seed </b> do random_state "
   ]
  },
  {
   "cell_type": "code",
   "execution_count": 15,
   "metadata": {},
   "outputs": [
    {
     "name": "stdout",
     "output_type": "stream",
     "text": [
      "Seed:  0\n",
      "Treino:  455\n",
      "Test:  114\n",
      "Acurácia:  0.9736842105263158\n",
      "\n",
      "Treino:  455\n",
      "Test:  114\n",
      "Acurácia:  0.9649122807017544\n",
      "\n",
      "Treino:  455\n",
      "Test:  114\n",
      "Acurácia:  0.9473684210526315\n",
      "\n",
      "Treino:  455\n",
      "Test:  114\n",
      "Acurácia:  0.9824561403508771\n",
      "\n",
      "Treino:  456\n",
      "Test:  113\n",
      "Acurácia:  0.9823008849557522\n",
      "\n",
      "Seed:  1\n",
      "Treino:  455\n",
      "Test:  114\n",
      "Acurácia:  0.9649122807017544\n",
      "\n",
      "Treino:  455\n",
      "Test:  114\n",
      "Acurácia:  0.956140350877193\n",
      "\n",
      "Treino:  455\n",
      "Test:  114\n",
      "Acurácia:  0.9473684210526315\n",
      "\n",
      "Treino:  455\n",
      "Test:  114\n",
      "Acurácia:  0.9912280701754386\n",
      "\n",
      "Treino:  456\n",
      "Test:  113\n",
      "Acurácia:  0.9823008849557522\n",
      "\n",
      "Seed:  2\n",
      "Treino:  455\n",
      "Test:  114\n",
      "Acurácia:  0.9473684210526315\n",
      "\n",
      "Treino:  455\n",
      "Test:  114\n",
      "Acurácia:  0.9736842105263158\n",
      "\n",
      "Treino:  455\n",
      "Test:  114\n",
      "Acurácia:  0.9912280701754386\n",
      "\n",
      "Treino:  455\n",
      "Test:  114\n",
      "Acurácia:  0.9824561403508771\n",
      "\n",
      "Treino:  456\n",
      "Test:  113\n",
      "Acurácia:  0.9734513274336283\n",
      "\n"
     ]
    }
   ],
   "source": [
    "resultados = []\n",
    "for seed in range(3):\n",
    "    print('Seed: ', seed)\n",
    "    kf = KFold(5, shuffle=True, random_state=seed)\n",
    "    for linhas_treino, linhas_teste in kf.split(X):\n",
    "        print('Treino: ', linhas_treino.shape[0])\n",
    "        print('Test: ', linhas_teste.shape[0])\n",
    "\n",
    "        X_treino, X_teste = X[linhas_treino], X[linhas_teste]\n",
    "        y_treino, y_teste = y[linhas_treino], y[linhas_teste]\n",
    "\n",
    "        mdl = LogisticRegression(random_state=14, class_weight='balanced')\n",
    "        mdl.fit(X_treino, y_treino)\n",
    "        y_pred = mdl.predict(X_teste)\n",
    "\n",
    "        # Acurácia \n",
    "        acc = accuracy_score(y_teste, y_pred)\n",
    "        resultados.append(acc)\n",
    "        print('Acurácia: ', acc)\n",
    "        print()"
   ]
  },
  {
   "cell_type": "code",
   "execution_count": 16,
   "metadata": {},
   "outputs": [
    {
     "data": {
      "text/plain": [
       "0.9707240076592659"
      ]
     },
     "execution_count": 16,
     "metadata": {},
     "output_type": "execute_result"
    }
   ],
   "source": [
    "np.mean(resultados)"
   ]
  },
  {
   "cell_type": "code",
   "execution_count": 17,
   "metadata": {},
   "outputs": [
    {
     "data": {
      "text/plain": [
       "0.01489030276878573"
      ]
     },
     "execution_count": 17,
     "metadata": {},
     "output_type": "execute_result"
    }
   ],
   "source": [
    "np.std(resultados)"
   ]
  },
  {
   "cell_type": "markdown",
   "metadata": {},
   "source": [
    "<br>\n",
    "<br>\n",
    "<br>\n",
    "<hr>\n",
    "<hr>\n",
    "<br>"
   ]
  },
  {
   "cell_type": "markdown",
   "metadata": {},
   "source": [
    "### StratifiedKFold \n",
    "<hr>\n",
    "\n",
    "StratifiedKFold Mantém a proporção das classes na hora da validação cruzada, diferentemente do KFold e do ShuffleSplit.\n",
    "\n",
    "<b> Deve especificar o Y contendo as classes para a estratificação </b> \n",
    "<br>"
   ]
  },
  {
   "cell_type": "code",
   "execution_count": 18,
   "metadata": {},
   "outputs": [],
   "source": [
    "from sklearn.model_selection import StratifiedKFold"
   ]
  },
  {
   "cell_type": "code",
   "execution_count": 19,
   "metadata": {},
   "outputs": [
    {
     "name": "stdout",
     "output_type": "stream",
     "text": [
      "Treino: 455\n",
      "Teste: 114\n",
      "Precision: 1.0\n",
      "\n",
      "Treino: 455\n",
      "Teste: 114\n",
      "Precision: 0.9767441860465116\n",
      "\n",
      "Treino: 455\n",
      "Teste: 114\n",
      "Precision: 0.975609756097561\n",
      "\n",
      "Treino: 455\n",
      "Teste: 114\n",
      "Precision: 0.9761904761904762\n",
      "\n",
      "Treino: 456\n",
      "Teste: 113\n",
      "Precision: 0.9523809523809523\n",
      "\n"
     ]
    }
   ],
   "source": [
    "sk = StratifiedKFold(n_splits=5, shuffle=True, random_state=14)\n",
    "\n",
    "resultados = []\n",
    "\n",
    "for treino, teste in sk.split(X,y):\n",
    "    print('Treino:', treino.shape[0])\n",
    "    print('Teste:', teste.shape[0])\n",
    "    \n",
    "    X_treino, X_teste = X[treino], X[teste]\n",
    "    y_treino, y_teste = y[treino], y[teste]\n",
    "    \n",
    "    mdl = LogisticRegression(random_state=14, class_weight='balanced')\n",
    "    mdl.fit(X_treino, y_treino)\n",
    "    y_pred = mdl.predict(X_teste)\n",
    "\n",
    "    # Precision\n",
    "    metric = precision_score(y_teste, y_pred)\n",
    "    resultados.append(metric)\n",
    "    print('Precision:', metric)\n",
    "    print()"
   ]
  },
  {
   "cell_type": "code",
   "execution_count": 20,
   "metadata": {},
   "outputs": [
    {
     "data": {
      "text/plain": [
       "0.9761850741431003"
      ]
     },
     "execution_count": 20,
     "metadata": {},
     "output_type": "execute_result"
    }
   ],
   "source": [
    "np.mean(resultados)"
   ]
  },
  {
   "cell_type": "markdown",
   "metadata": {},
   "source": [
    "<br>\n",
    "<br>\n",
    "<br>\n",
    "<hr>\n",
    "<hr>\n",
    "<br>"
   ]
  },
  {
   "cell_type": "markdown",
   "metadata": {},
   "source": [
    "### ShuffleSplit\n",
    "<hr>\n",
    "\n",
    "Gera índices para dividir dados em conjuntos de treinamento e teste.\n",
    "\n",
    "Nota: ao contrário de outras estratégias de validação cruzada, as divisões aleatórias não garantem que todas as dobras sejam diferentes, embora isso ainda seja muito provável para conjuntos de dados consideráveis.\n",
    "\n",
    "Com ShuffleSplit eu consigo definir a porcentagem de dados que vou utilizar no treino e no teste "
   ]
  },
  {
   "cell_type": "code",
   "execution_count": 21,
   "metadata": {},
   "outputs": [],
   "source": [
    "from sklearn.model_selection import ShuffleSplit "
   ]
  },
  {
   "cell_type": "code",
   "execution_count": 22,
   "metadata": {},
   "outputs": [
    {
     "name": "stdout",
     "output_type": "stream",
     "text": [
      "Fold: 1\n",
      "Treino: 398\n",
      "Teste: 171\n",
      "Precision: 0.9516129032258065\n",
      "\n",
      "Fold: 2\n",
      "Treino: 398\n",
      "Teste: 171\n",
      "Precision: 0.9298245614035088\n",
      "\n",
      "Fold: 3\n",
      "Treino: 398\n",
      "Teste: 171\n",
      "Precision: 0.9672131147540983\n",
      "\n",
      "Fold: 4\n",
      "Treino: 398\n",
      "Teste: 171\n",
      "Precision: 0.9827586206896551\n",
      "\n",
      "Fold: 5\n",
      "Treino: 398\n",
      "Teste: 171\n",
      "Precision: 1.0\n",
      "\n"
     ]
    }
   ],
   "source": [
    "sf = ShuffleSplit(n_splits=5, test_size=0.30, random_state=10)\n",
    "\n",
    "resultados = []\n",
    "count = 0\n",
    "\n",
    "for treino, teste in sf.split(X):\n",
    "    count = count + 1 \n",
    "    print('Fold:', count)\n",
    "    print('Treino:', treino.shape[0])\n",
    "    print('Teste:', teste.shape[0])\n",
    "    \n",
    "    X_treino, X_teste = X[treino], X[teste]\n",
    "    y_treino, y_teste = y[treino], y[teste]\n",
    "    \n",
    "    mdl = LogisticRegression(random_state=14, class_weight='balanced')\n",
    "    mdl.fit(X_treino, y_treino)\n",
    "    y_pred = mdl.predict(X_teste)\n",
    "\n",
    "    # Precision\n",
    "    metric = precision_score(y_teste, y_pred)\n",
    "    resultados.append(metric)\n",
    "    print('Precision:', metric)\n",
    "    print()"
   ]
  },
  {
   "cell_type": "code",
   "execution_count": 23,
   "metadata": {},
   "outputs": [
    {
     "data": {
      "text/plain": [
       "[0.9516129032258065,\n",
       " 0.9298245614035088,\n",
       " 0.9672131147540983,\n",
       " 0.9827586206896551,\n",
       " 1.0]"
      ]
     },
     "execution_count": 23,
     "metadata": {},
     "output_type": "execute_result"
    }
   ],
   "source": [
    "resultados"
   ]
  },
  {
   "cell_type": "code",
   "execution_count": 24,
   "metadata": {},
   "outputs": [
    {
     "data": {
      "text/plain": [
       "0.9662818400146136"
      ]
     },
     "execution_count": 24,
     "metadata": {},
     "output_type": "execute_result"
    }
   ],
   "source": [
    "np.mean(resultados)"
   ]
  },
  {
   "cell_type": "markdown",
   "metadata": {},
   "source": [
    "<br>\n",
    "<br>\n",
    "<br>\n",
    "<hr>\n",
    "<hr>\n",
    "<br>"
   ]
  },
  {
   "cell_type": "markdown",
   "metadata": {},
   "source": [
    "### Cross Validate \n",
    "<hr>\n",
    "O cross validate apresenta uma diferença do cross_val_score, ele permite inferir duas ou mais métricas para avaliar o modelo. "
   ]
  },
  {
   "cell_type": "code",
   "execution_count": 25,
   "metadata": {},
   "outputs": [],
   "source": [
    "from sklearn.model_selection import cross_validate"
   ]
  },
  {
   "cell_type": "code",
   "execution_count": 26,
   "metadata": {},
   "outputs": [],
   "source": [
    "metrics = ['accuracy', 'precision']\n",
    "\n",
    "score = cross_validate(mdl, X,y, cv=5, scoring=metrics)"
   ]
  },
  {
   "cell_type": "code",
   "execution_count": 27,
   "metadata": {},
   "outputs": [
    {
     "data": {
      "text/plain": [
       "{'fit_time': array([0.01099896, 0.01199746, 0.01399851, 0.01599789, 0.01199794]),\n",
       " 'score_time': array([0.00399876, 0.00100017, 0.00199819, 0.00199914, 0.00099993]),\n",
       " 'test_accuracy': array([0.95614035, 0.98245614, 0.97368421, 0.97368421, 0.99115044]),\n",
       " 'test_precision': array([0.93181818, 1.        , 0.97560976, 0.97560976, 0.97674419])}"
      ]
     },
     "execution_count": 27,
     "metadata": {},
     "output_type": "execute_result"
    }
   ],
   "source": [
    "score"
   ]
  },
  {
   "cell_type": "code",
   "execution_count": 28,
   "metadata": {},
   "outputs": [
    {
     "data": {
      "text/plain": [
       "0.971956378"
      ]
     },
     "execution_count": 28,
     "metadata": {},
     "output_type": "execute_result"
    }
   ],
   "source": [
    "# Precision \n",
    "np.mean([0.93181818, 1.0 , 0.97560976, 0.97560976, 0.97674419])"
   ]
  },
  {
   "cell_type": "code",
   "execution_count": 29,
   "metadata": {},
   "outputs": [
    {
     "data": {
      "text/plain": [
       "0.9754230700000001"
      ]
     },
     "execution_count": 29,
     "metadata": {},
     "output_type": "execute_result"
    }
   ],
   "source": [
    "# Acurácia \n",
    "np.mean([0.95614035, 0.98245614, 0.97368421, 0.97368421, 0.99115044])"
   ]
  },
  {
   "cell_type": "markdown",
   "metadata": {},
   "source": [
    "<br>\n",
    "<br>\n",
    "<br>\n",
    "<hr>\n",
    "<hr>\n",
    "<br>"
   ]
  },
  {
   "cell_type": "markdown",
   "metadata": {},
   "source": [
    "### Cross val predict \n",
    "<hr>\n",
    "Gere estimativas validadas cruzadamente para cada ponto de dados de entrada\n",
    "\n",
    "Os dados são divididos de acordo com o parâmetro cv. Cada amostra pertence a exatamente um conjunto de testes e sua previsão é calculada com um estimador instalado no conjunto de treinamento correspondente.\n"
   ]
  },
  {
   "cell_type": "code",
   "execution_count": 30,
   "metadata": {},
   "outputs": [],
   "source": [
    "from sklearn.model_selection import cross_val_predict"
   ]
  },
  {
   "cell_type": "code",
   "execution_count": 31,
   "metadata": {},
   "outputs": [],
   "source": [
    "score = cross_val_predict(mdl, X,y, cv=3, method='predict')"
   ]
  },
  {
   "cell_type": "code",
   "execution_count": 32,
   "metadata": {},
   "outputs": [
    {
     "data": {
      "text/plain": [
       "array([1, 1, 1, 1, 1, 1, 1, 1, 1, 1, 1, 1, 1, 1, 1, 1, 1, 1, 1, 0, 0, 0,\n",
       "       1, 1, 1, 1, 1, 1, 1, 1, 1, 1, 1, 1, 1, 1, 1, 0, 0, 1, 0, 0, 1, 1,\n",
       "       1, 1, 0, 1, 0, 0, 0, 0, 0, 1, 1, 0, 1, 1, 0, 0, 0, 0, 1, 0, 1, 1,\n",
       "       0, 0, 0, 0, 1, 0, 1, 0, 0, 1, 0, 1, 1, 0, 0, 1, 1, 1, 0, 1, 1, 1,\n",
       "       0, 0, 0, 1, 0, 0, 1, 1, 0, 0, 0, 1, 1, 0, 0, 0, 0, 1, 0, 0, 1, 0,\n",
       "       0, 0, 1, 0, 0, 0, 0, 1, 1, 1, 0, 1, 1, 0, 0, 0, 1, 1, 0, 1, 0, 1,\n",
       "       1, 0, 1, 0, 0, 0, 1, 0, 0, 1, 0, 0, 0, 0, 1, 0, 0, 0, 0, 0, 0, 0,\n",
       "       0, 0, 1, 0, 0, 0, 0, 1, 1, 0, 1, 0, 0, 1, 1, 0, 0, 0, 1, 0, 0, 0,\n",
       "       0, 1, 0, 0, 1, 1, 1, 0, 1, 0, 1, 0, 0, 0, 1, 0, 0, 1, 1, 0, 1, 1,\n",
       "       1, 1, 0, 1, 1, 1, 0, 0, 0, 1, 0, 0, 1, 0, 1, 1, 1, 1, 0, 0, 1, 1,\n",
       "       0, 0, 0, 1, 0, 0, 0, 0, 0, 1, 1, 0, 0, 1, 0, 0, 1, 1, 0, 1, 0, 0,\n",
       "       0, 0, 1, 0, 0, 0, 0, 0, 1, 0, 1, 1, 1, 0, 1, 1, 1, 1, 1, 1, 1, 0,\n",
       "       1, 1, 0, 0, 0, 0, 0, 0, 1, 0, 1, 0, 0, 1, 0, 0, 1, 0, 1, 1, 0, 0,\n",
       "       0, 0, 0, 0, 0, 0, 0, 0, 0, 0, 0, 0, 0, 0, 1, 0, 1, 0, 0, 0, 0, 0,\n",
       "       0, 0, 0, 0, 0, 0, 0, 0, 0, 1, 0, 0, 0, 1, 0, 1, 0, 0, 0, 0, 1, 1,\n",
       "       1, 0, 0, 0, 0, 1, 0, 1, 0, 1, 0, 0, 0, 1, 0, 0, 0, 0, 0, 0, 0, 1,\n",
       "       1, 1, 0, 0, 0, 0, 0, 0, 0, 0, 0, 0, 0, 1, 1, 0, 1, 1, 1, 0, 1, 1,\n",
       "       0, 0, 0, 0, 0, 1, 0, 0, 0, 0, 0, 1, 0, 0, 0, 1, 0, 0, 1, 1, 0, 0,\n",
       "       0, 0, 0, 0, 1, 0, 0, 0, 0, 0, 0, 0, 1, 0, 0, 0, 0, 1, 1, 0, 0, 1,\n",
       "       0, 0, 0, 0, 0, 0, 0, 0, 0, 0, 0, 0, 1, 0, 1, 1, 0, 1, 0, 0, 0, 0,\n",
       "       0, 1, 0, 0, 1, 0, 1, 0, 0, 1, 0, 1, 0, 0, 0, 0, 0, 0, 0, 0, 1, 1,\n",
       "       0, 0, 0, 0, 0, 0, 1, 0, 0, 0, 0, 0, 0, 0, 0, 0, 0, 1, 0, 0, 0, 0,\n",
       "       0, 0, 0, 1, 0, 1, 0, 0, 1, 0, 0, 0, 0, 0, 1, 1, 0, 1, 0, 1, 0, 0,\n",
       "       0, 0, 0, 1, 0, 0, 1, 0, 1, 0, 1, 1, 0, 0, 0, 1, 0, 0, 0, 0, 0, 0,\n",
       "       0, 0, 0, 0, 0, 1, 0, 1, 1, 0, 0, 0, 0, 1, 0, 0, 0, 0, 0, 0, 0, 0,\n",
       "       0, 0, 0, 0, 0, 0, 0, 0, 0, 0, 0, 0, 1, 1, 1, 1, 1, 1, 0])"
      ]
     },
     "execution_count": 32,
     "metadata": {},
     "output_type": "execute_result"
    }
   ],
   "source": [
    "score"
   ]
  },
  {
   "cell_type": "markdown",
   "metadata": {},
   "source": [
    "<br>\n",
    "<hr>\n",
    "<br>\n",
    "<hr>\n",
    "<br>"
   ]
  },
  {
   "cell_type": "markdown",
   "metadata": {},
   "source": [
    "### StratifiedShuffleSplit \n",
    "\n",
    "Esse objeto de validação cruzada é uma mesclagem de StratifiedKFold e ShuffleSplit, que retorna dobras aleatórias estratificadas. As dobras são feitas preservando a porcentagem de amostras para cada classe.\n",
    "\n",
    "\n",
    "Nota: como a estratégia ShuffleSplit, as divisões aleatórias estratificadas não garantem que todas as dobras sejam diferentes, embora isso ainda seja muito provável para conjuntos de dados consideráveis."
   ]
  },
  {
   "cell_type": "code",
   "execution_count": 33,
   "metadata": {},
   "outputs": [],
   "source": [
    "from sklearn.model_selection import StratifiedShuffleSplit "
   ]
  },
  {
   "cell_type": "code",
   "execution_count": 34,
   "metadata": {},
   "outputs": [
    {
     "name": "stdout",
     "output_type": "stream",
     "text": [
      "Treino: 398\n",
      "Teste: 171\n",
      "Precision: 0.9516129032258065\n",
      "\n",
      "Treino: 398\n",
      "Teste: 171\n",
      "Precision: 0.9298245614035088\n",
      "\n",
      "Treino: 398\n",
      "Teste: 171\n",
      "Precision: 0.9672131147540983\n",
      "\n",
      "Treino: 398\n",
      "Teste: 171\n",
      "Precision: 0.9827586206896551\n",
      "\n",
      "Treino: 398\n",
      "Teste: 171\n",
      "Precision: 1.0\n",
      "\n"
     ]
    }
   ],
   "source": [
    "sp = StratifiedShuffleSplit(n_splits=5, test_size=0.30, random_state=14)\n",
    "\n",
    "resultados = []\n",
    "\n",
    "for treino, teste in sf.split(X):\n",
    "    print('Treino:', treino.shape[0])\n",
    "    print('Teste:', teste.shape[0])\n",
    "    \n",
    "    X_treino, X_teste = X[treino], X[teste]\n",
    "    y_treino, y_teste = y[treino], y[teste]\n",
    "    \n",
    "    mdl = LogisticRegression(random_state=14, class_weight='balanced')\n",
    "    mdl.fit(X_treino, y_treino)\n",
    "    y_pred = mdl.predict(X_teste)\n",
    "\n",
    "    # Precision\n",
    "    metric = precision_score(y_teste, y_pred)\n",
    "    resultados.append(metric)\n",
    "    print('Precision:', metric)\n",
    "    print()"
   ]
  },
  {
   "cell_type": "code",
   "execution_count": 35,
   "metadata": {},
   "outputs": [
    {
     "data": {
      "text/plain": [
       "0.9662818400146136"
      ]
     },
     "execution_count": 35,
     "metadata": {},
     "output_type": "execute_result"
    }
   ],
   "source": [
    "np.mean(resultados)"
   ]
  },
  {
   "cell_type": "markdown",
   "metadata": {},
   "source": [
    "<br>\n",
    "<br>\n",
    "<br>\n",
    "<hr>\n",
    "<hr>\n",
    "<br>"
   ]
  },
  {
   "cell_type": "markdown",
   "metadata": {},
   "source": [
    "### RepeadtedStrtifiedKFold \n",
    "<hr>\n",
    "Validador cruzado estratificado K-Fold repetido. Repete K-Fold estratificado n vezes com randomização diferente em cada repetição."
   ]
  },
  {
   "cell_type": "code",
   "execution_count": 36,
   "metadata": {},
   "outputs": [],
   "source": [
    "from sklearn.model_selection import RepeatedStratifiedKFold"
   ]
  },
  {
   "cell_type": "code",
   "execution_count": 37,
   "metadata": {},
   "outputs": [
    {
     "name": "stdout",
     "output_type": "stream",
     "text": [
      "Treino: 455\n",
      "Teste: 114\n",
      "Precision: 1.0\n",
      "\n",
      "Treino: 455\n",
      "Teste: 114\n",
      "Precision: 0.9767441860465116\n",
      "\n",
      "Treino: 455\n",
      "Teste: 114\n",
      "Precision: 0.975609756097561\n",
      "\n",
      "Treino: 455\n",
      "Teste: 114\n",
      "Precision: 0.9761904761904762\n",
      "\n",
      "Treino: 456\n",
      "Teste: 113\n",
      "Precision: 0.9523809523809523\n",
      "\n",
      "Treino: 455\n",
      "Teste: 114\n",
      "Precision: 1.0\n",
      "\n",
      "Treino: 455\n",
      "Teste: 114\n",
      "Precision: 0.9555555555555556\n",
      "\n",
      "Treino: 455\n",
      "Teste: 114\n",
      "Precision: 0.9333333333333333\n",
      "\n",
      "Treino: 455\n",
      "Teste: 114\n",
      "Precision: 1.0\n",
      "\n",
      "Treino: 456\n",
      "Teste: 113\n",
      "Precision: 1.0\n",
      "\n",
      "Treino: 455\n",
      "Teste: 114\n",
      "Precision: 0.9545454545454546\n",
      "\n",
      "Treino: 455\n",
      "Teste: 114\n",
      "Precision: 0.9743589743589743\n",
      "\n",
      "Treino: 455\n",
      "Teste: 114\n",
      "Precision: 0.975609756097561\n",
      "\n",
      "Treino: 455\n",
      "Teste: 114\n",
      "Precision: 0.9534883720930233\n",
      "\n",
      "Treino: 456\n",
      "Teste: 113\n",
      "Precision: 1.0\n",
      "\n",
      "Treino: 455\n",
      "Teste: 114\n",
      "Precision: 1.0\n",
      "\n",
      "Treino: 455\n",
      "Teste: 114\n",
      "Precision: 0.8723404255319149\n",
      "\n",
      "Treino: 455\n",
      "Teste: 114\n",
      "Precision: 1.0\n",
      "\n",
      "Treino: 455\n",
      "Teste: 114\n",
      "Precision: 0.975\n",
      "\n",
      "Treino: 456\n",
      "Teste: 113\n",
      "Precision: 1.0\n",
      "\n"
     ]
    }
   ],
   "source": [
    "rf = RepeatedStratifiedKFold(n_splits=5, n_repeats=4, random_state=14)\n",
    "\n",
    "resultados = []\n",
    "\n",
    "for treino, teste in rf.split(X, y):\n",
    "    print('Treino:', treino.shape[0])\n",
    "    print('Teste:', teste.shape[0])\n",
    "    \n",
    "    X_treino, X_teste = X[treino], X[teste]\n",
    "    y_treino, y_teste = y[treino], y[teste]\n",
    "    \n",
    "    mdl = LogisticRegression(random_state=14, class_weight='balanced')\n",
    "    mdl.fit(X_treino, y_treino)\n",
    "    y_pred = mdl.predict(X_teste)\n",
    "\n",
    "    # Precision\n",
    "    metric = precision_score(y_teste, y_pred)\n",
    "    resultados.append(metric)\n",
    "    print('Precision:', metric)\n",
    "    print()"
   ]
  },
  {
   "cell_type": "markdown",
   "metadata": {},
   "source": [
    "<br>\n",
    "<br>\n",
    "<br>\n",
    "<hr>\n",
    "<hr>\n",
    "<br>"
   ]
  },
  {
   "cell_type": "markdown",
   "metadata": {},
   "source": [
    "### Curva ROC com Cross validation \n",
    "<hr>"
   ]
  },
  {
   "cell_type": "code",
   "execution_count": 38,
   "metadata": {},
   "outputs": [],
   "source": [
    "from sklearn.metrics import roc_auc_score, roc_curve\n",
    "from sklearn.metrics import plot_roc_curve\n",
    "from sklearn.model_selection import StratifiedKFold"
   ]
  },
  {
   "cell_type": "code",
   "execution_count": 39,
   "metadata": {},
   "outputs": [
    {
     "data": {
      "image/png": "[encoded data removed]",
      "text/plain": [
       "<Figure size 864x504 with 1 Axes>"
      ]
     },
     "metadata": {
      "needs_background": "light"
     },
     "output_type": "display_data"
    },
    {
     "name": "stdout",
     "output_type": "stream",
     "text": [
      "\n"
     ]
    },
    {
     "data": {
      "image/png": "[encoded data removed]",
      "text/plain": [
       "<Figure size 864x504 with 1 Axes>"
      ]
     },
     "metadata": {
      "needs_background": "light"
     },
     "output_type": "display_data"
    },
    {
     "name": "stdout",
     "output_type": "stream",
     "text": [
      "\n"
     ]
    },
    {
     "data": {
      "image/png": "[encoded data removed]",
      "text/plain": [
       "<Figure size 864x504 with 1 Axes>"
      ]
     },
     "metadata": {
      "needs_background": "light"
     },
     "output_type": "display_data"
    },
    {
     "name": "stdout",
     "output_type": "stream",
     "text": [
      "\n",
      "AUC final: 99.235%\n"
     ]
    }
   ],
   "source": [
    "sk = StratifiedKFold(n_splits=3 , shuffle=True, random_state=14)\n",
    "\n",
    "resultados = []\n",
    "fold = 0\n",
    "\n",
    "\n",
    "for treino, teste in sk.split(X,y):\n",
    "    fold = fold + 1 \n",
    "    X_treino, X_teste = X[treino], X[teste]\n",
    "    y_treino, y_teste = y[treino], y[teste]\n",
    "    \n",
    "    mdl = LogisticRegression(random_state=14, class_weight='balanced')\n",
    "    mdl.fit(X_treino, y_treino)\n",
    "    y_proba = mdl.predict_proba(X_teste)[:,1]\n",
    "    \n",
    "    \n",
    "\n",
    "    # Curva ROC \n",
    "    fpr, tpr, _ = roc_curve(y_teste, y_proba)\n",
    "    plt.figure(figsize=(12,7))\n",
    "    plt.plot(fpr, tpr, color='blue', label='ROC Fold: {} | AUC: {}'.format(fold, roc_auc_score(y_teste, y_proba)))\n",
    "    plt.fill_between(fpr,tpr, color='skyblue', alpha=0.3)\n",
    "    plt.plot([0,1], [0,1], color='purple', ls='--', label='Reference Line')\n",
    "    plt.xlabel('False Positive Rate', fontsize=13)\n",
    "    plt.ylabel('True Positive Rate', fontsize=13)\n",
    "    plt.title('Curva ROC', fontsize=15)\n",
    "    plt.legend(loc=4, fontsize=14)\n",
    "    plt.grid(False)\n",
    "    plt.show()\n",
    "    \n",
    "\n",
    "    # Precision\n",
    "    metric = roc_auc_score(y_teste, y_proba)\n",
    "    resultados.append(metric)\n",
    "    print()\n",
    "\n",
    "    \n",
    "print('AUC final: {}%'.format(np.mean(resultados).round(5)*100))"
   ]
  },
  {
   "cell_type": "markdown",
   "metadata": {},
   "source": [
    "<br>\n",
    "<hr>\n",
    "<br>\n",
    "<hr>\n",
    "<br>\n",
    "<hr>"
   ]
  },
  {
   "cell_type": "markdown",
   "metadata": {},
   "source": [
    "### Curva ROC | Folds \n",
    "\n",
    "Curva ROC contendo todos os Folds no mesmo plot "
   ]
  },
  {
   "cell_type": "code",
   "execution_count": 40,
   "metadata": {},
   "outputs": [
    {
     "data": {
      "image/png": "[encoded data removed]",
      "text/plain": [
       "<Figure size 864x504 with 1 Axes>"
      ]
     },
     "metadata": {
      "needs_background": "light"
     },
     "output_type": "display_data"
    },
    {
     "name": "stdout",
     "output_type": "stream",
     "text": [
      "\n",
      "AUC: 99.235%\n"
     ]
    }
   ],
   "source": [
    "splits = [1,2,3]\n",
    "\n",
    "fpr, tpr, _ = roc_curve(y_teste, y_proba)\n",
    "plt.figure(figsize=(12,7))\n",
    "plt.plot(fpr, tpr, color='blue', label='ROC Fold: {} | AUC: {}'.format(splits[0], resultados[0]))\n",
    "plt.plot(fpr, tpr, color='red', label='ROC Fold: {} | AUC: {}'.format(splits[1], resultados[1]))\n",
    "plt.plot(fpr, tpr, color='green', label='ROC Fold: {} | AUC: {}'.format(splits[2], resultados[2]))\n",
    "plt.fill_between(fpr,tpr, color='skyblue', alpha=0.3)\n",
    "plt.plot([0,1], [0,1], color='purple', ls='--', label='Reference Line')\n",
    "plt.xlabel('False Positive Rate', fontsize=13)\n",
    "plt.ylabel('True Positive Rate', fontsize=13)\n",
    "plt.title('Curva ROC', fontsize=15)\n",
    "plt.legend(loc=4, fontsize=14)\n",
    "plt.grid(False)\n",
    "plt.show()\n",
    "\n",
    "# Validação \n",
    "print()\n",
    "print('AUC: {}%'.format(np.mean(resultados).round(5)*100))"
   ]
  },
  {
   "cell_type": "markdown",
   "metadata": {},
   "source": [
    "<hr>\n",
    "<hr>\n",
    "<hr>"
   ]
  }
 ],
 "metadata": {
  "kernelspec": {
   "display_name": "Python 3",
   "language": "python",
   "name": "python3"
  },
  "language_info": {
   "codemirror_mode": {
    "name": "ipython",
    "version": 3
   },
   "file_extension": ".py",
   "mimetype": "text/x-python",
   "name": "python",
   "nbconvert_exporter": "python",
   "pygments_lexer": "ipython3",
   "version": "3.6.5"
  }
 },
 "nbformat": 4,
 "nbformat_minor": 4
}

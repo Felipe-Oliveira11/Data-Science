{
  "nbformat": 4,
  "nbformat_minor": 0,
  "metadata": {
    "colab": {
      "name": "Desbalanceamento.ipynb",
      "provenance": [],
      "collapsed_sections": []
    },
    "kernelspec": {
      "name": "python3",
      "display_name": "Python 3"
    }
  },
  "cells": [
    {
      "cell_type": "markdown",
      "metadata": {
        "id": "UxRRxBcgNl6-",
        "colab_type": "text"
      },
      "source": [
        "### Desbalanceamento de Classes \n",
        "\n",
        "Dados desbalanceados são um problema para a construção de um modelo de Machine learning, os algoritmos de machine learning partem da premissa, que o balanceamento dos dados deve ser consideravél, pois treinar um modelo com uma discrepância grande de exemplos de cada classe, faz com que o modelo sobreponha a classe minoritária. \n",
        "\n",
        "Neste guia vou demonstrar algumas técnicas de como tratar, conjunto de dados que possuem um desbalancemante de classes. \n",
        "\n",
        "<hr>"
      ]
    },
    {
      "cell_type": "markdown",
      "metadata": {
        "id": "ksdUS67jfJ9R",
        "colab_type": "text"
      },
      "source": [
        "<p align=center>\n",
        "<img src=\"https://img1.daumcdn.net/thumb/R800x0/?scode=mtistory2&fname=https%3A%2F%2Fk.kakaocdn.net%2Fdn%2F67qja%2Fbtqx8AVDBN8%2FFs7wjgngVukhQENwabB4tK%2Fimg.png\" width=\"70%\"></p>\n",
        "\n",
        "<hr>"
      ]
    },
    {
      "cell_type": "markdown",
      "metadata": {
        "id": "9DUFqPO-iUZh",
        "colab_type": "text"
      },
      "source": [
        "#### Dados de exemplo \n",
        "\n",
        "Vamos utilizar os dados de uma instituição financeira, onde o objetivo é criar um classificador que consiga, identificar uma transação como sendo fraudulenta. \n",
        "\n",
        "Este é um caso clássico no mercado, onde a ocorrência de uma fraude bancária é mínima, e se tem esse gap gigantesco nos dados. \n",
        "\n",
        "\n",
        "Vou utilizar apenas o Random Forest para exemplificar cada técnica, o objetivo é entender os detalhes de cada técnica. "
      ]
    },
    {
      "cell_type": "markdown",
      "metadata": {
        "id": "BFpB7PzOkFff",
        "colab_type": "text"
      },
      "source": [
        "<br>"
      ]
    },
    {
      "cell_type": "code",
      "metadata": {
        "id": "HSAx1tutNPtT",
        "colab_type": "code",
        "outputId": "be672385-1694-400d-eabe-1872258e7192",
        "colab": {
          "base_uri": "https://localhost:8080/",
          "height": 119
        }
      },
      "source": [
        "# Biblioteca Imblearn \n",
        "!pip install imblearn"
      ],
      "execution_count": 1,
      "outputs": [
        {
          "output_type": "stream",
          "text": [
            "Requirement already satisfied: imblearn in /usr/local/lib/python3.6/dist-packages (0.0)\n",
            "Requirement already satisfied: imbalanced-learn in /usr/local/lib/python3.6/dist-packages (from imblearn) (0.4.3)\n",
            "Requirement already satisfied: scikit-learn>=0.20 in /usr/local/lib/python3.6/dist-packages (from imbalanced-learn->imblearn) (0.22.2.post1)\n",
            "Requirement already satisfied: scipy>=0.13.3 in /usr/local/lib/python3.6/dist-packages (from imbalanced-learn->imblearn) (1.4.1)\n",
            "Requirement already satisfied: numpy>=1.8.2 in /usr/local/lib/python3.6/dist-packages (from imbalanced-learn->imblearn) (1.18.5)\n",
            "Requirement already satisfied: joblib>=0.11 in /usr/local/lib/python3.6/dist-packages (from scikit-learn>=0.20->imbalanced-learn->imblearn) (0.15.1)\n"
          ],
          "name": "stdout"
        }
      ]
    },
    {
      "cell_type": "code",
      "metadata": {
        "id": "fMAahsk_RKHP",
        "colab_type": "code",
        "outputId": "3949fb87-fc33-4cad-925d-79f5dc6a15ac",
        "colab": {
          "base_uri": "https://localhost:8080/",
          "height": 71
        }
      },
      "source": [
        "import numpy as np \n",
        "import pandas as pd \n",
        "import matplotlib.pyplot as plt \n",
        "import seaborn as sns \n",
        "\n",
        "from sklearn.ensemble import RandomForestClassifier\n",
        "from sklearn.metrics import classification_report\n",
        "from sklearn.model_selection import train_test_split, cross_val_score, StratifiedKFold\n",
        "from sklearn.preprocessing import LabelEncoder, StandardScaler, PowerTransformer, QuantileTransformer, RobustScaler\n",
        "\n",
        "\n",
        "%matplotlib inline \n",
        "from warnings import simplefilter\n",
        "simplefilter(action='ignore', category=FutureWarning)"
      ],
      "execution_count": 2,
      "outputs": [
        {
          "output_type": "stream",
          "text": [
            "/usr/local/lib/python3.6/dist-packages/statsmodels/tools/_testing.py:19: FutureWarning: pandas.util.testing is deprecated. Use the functions in the public API at pandas.testing instead.\n",
            "  import pandas.util.testing as tm\n"
          ],
          "name": "stderr"
        }
      ]
    },
    {
      "cell_type": "code",
      "metadata": {
        "id": "3D9lnybIRhc2",
        "colab_type": "code",
        "outputId": "072a94dc-1191-4a98-b932-cf82517bdadd",
        "colab": {
          "base_uri": "https://localhost:8080/",
          "height": 224
        }
      },
      "source": [
        "# importando dados \n",
        "path = '/content/drive/My Drive/ML_Notebooks/Detecção de Fraude /creditcard.csv' \n",
        "credit = pd.read_csv(path)\n",
        "credit.head()"
      ],
      "execution_count": 3,
      "outputs": [
        {
          "output_type": "execute_result",
          "data": {
            "text/html": [
              "<div>\n",
              "<style scoped>\n",
              "    .dataframe tbody tr th:only-of-type {\n",
              "        vertical-align: middle;\n",
              "    }\n",
              "\n",
              "    .dataframe tbody tr th {\n",
              "        vertical-align: top;\n",
              "    }\n",
              "\n",
              "    .dataframe thead th {\n",
              "        text-align: right;\n",
              "    }\n",
              "</style>\n",
              "<table border=\"1\" class=\"dataframe\">\n",
              "  <thead>\n",
              "    <tr style=\"text-align: right;\">\n",
              "      <th></th>\n",
              "      <th>Time</th>\n",
              "      <th>V1</th>\n",
              "      <th>V2</th>\n",
              "      <th>V3</th>\n",
              "      <th>V4</th>\n",
              "      <th>V5</th>\n",
              "      <th>V6</th>\n",
              "      <th>V7</th>\n",
              "      <th>V8</th>\n",
              "      <th>V9</th>\n",
              "      <th>V10</th>\n",
              "      <th>V11</th>\n",
              "      <th>V12</th>\n",
              "      <th>V13</th>\n",
              "      <th>V14</th>\n",
              "      <th>V15</th>\n",
              "      <th>V16</th>\n",
              "      <th>V17</th>\n",
              "      <th>V18</th>\n",
              "      <th>V19</th>\n",
              "      <th>V20</th>\n",
              "      <th>V21</th>\n",
              "      <th>V22</th>\n",
              "      <th>V23</th>\n",
              "      <th>V24</th>\n",
              "      <th>V25</th>\n",
              "      <th>V26</th>\n",
              "      <th>V27</th>\n",
              "      <th>V28</th>\n",
              "      <th>Amount</th>\n",
              "      <th>Class</th>\n",
              "    </tr>\n",
              "  </thead>\n",
              "  <tbody>\n",
              "    <tr>\n",
              "      <th>0</th>\n",
              "      <td>0.0</td>\n",
              "      <td>-1.359807</td>\n",
              "      <td>-0.072781</td>\n",
              "      <td>2.536347</td>\n",
              "      <td>1.378155</td>\n",
              "      <td>-0.338321</td>\n",
              "      <td>0.462388</td>\n",
              "      <td>0.239599</td>\n",
              "      <td>0.098698</td>\n",
              "      <td>0.363787</td>\n",
              "      <td>0.090794</td>\n",
              "      <td>-0.551600</td>\n",
              "      <td>-0.617801</td>\n",
              "      <td>-0.991390</td>\n",
              "      <td>-0.311169</td>\n",
              "      <td>1.468177</td>\n",
              "      <td>-0.470401</td>\n",
              "      <td>0.207971</td>\n",
              "      <td>0.025791</td>\n",
              "      <td>0.403993</td>\n",
              "      <td>0.251412</td>\n",
              "      <td>-0.018307</td>\n",
              "      <td>0.277838</td>\n",
              "      <td>-0.110474</td>\n",
              "      <td>0.066928</td>\n",
              "      <td>0.128539</td>\n",
              "      <td>-0.189115</td>\n",
              "      <td>0.133558</td>\n",
              "      <td>-0.021053</td>\n",
              "      <td>149.62</td>\n",
              "      <td>0</td>\n",
              "    </tr>\n",
              "    <tr>\n",
              "      <th>1</th>\n",
              "      <td>0.0</td>\n",
              "      <td>1.191857</td>\n",
              "      <td>0.266151</td>\n",
              "      <td>0.166480</td>\n",
              "      <td>0.448154</td>\n",
              "      <td>0.060018</td>\n",
              "      <td>-0.082361</td>\n",
              "      <td>-0.078803</td>\n",
              "      <td>0.085102</td>\n",
              "      <td>-0.255425</td>\n",
              "      <td>-0.166974</td>\n",
              "      <td>1.612727</td>\n",
              "      <td>1.065235</td>\n",
              "      <td>0.489095</td>\n",
              "      <td>-0.143772</td>\n",
              "      <td>0.635558</td>\n",
              "      <td>0.463917</td>\n",
              "      <td>-0.114805</td>\n",
              "      <td>-0.183361</td>\n",
              "      <td>-0.145783</td>\n",
              "      <td>-0.069083</td>\n",
              "      <td>-0.225775</td>\n",
              "      <td>-0.638672</td>\n",
              "      <td>0.101288</td>\n",
              "      <td>-0.339846</td>\n",
              "      <td>0.167170</td>\n",
              "      <td>0.125895</td>\n",
              "      <td>-0.008983</td>\n",
              "      <td>0.014724</td>\n",
              "      <td>2.69</td>\n",
              "      <td>0</td>\n",
              "    </tr>\n",
              "    <tr>\n",
              "      <th>2</th>\n",
              "      <td>1.0</td>\n",
              "      <td>-1.358354</td>\n",
              "      <td>-1.340163</td>\n",
              "      <td>1.773209</td>\n",
              "      <td>0.379780</td>\n",
              "      <td>-0.503198</td>\n",
              "      <td>1.800499</td>\n",
              "      <td>0.791461</td>\n",
              "      <td>0.247676</td>\n",
              "      <td>-1.514654</td>\n",
              "      <td>0.207643</td>\n",
              "      <td>0.624501</td>\n",
              "      <td>0.066084</td>\n",
              "      <td>0.717293</td>\n",
              "      <td>-0.165946</td>\n",
              "      <td>2.345865</td>\n",
              "      <td>-2.890083</td>\n",
              "      <td>1.109969</td>\n",
              "      <td>-0.121359</td>\n",
              "      <td>-2.261857</td>\n",
              "      <td>0.524980</td>\n",
              "      <td>0.247998</td>\n",
              "      <td>0.771679</td>\n",
              "      <td>0.909412</td>\n",
              "      <td>-0.689281</td>\n",
              "      <td>-0.327642</td>\n",
              "      <td>-0.139097</td>\n",
              "      <td>-0.055353</td>\n",
              "      <td>-0.059752</td>\n",
              "      <td>378.66</td>\n",
              "      <td>0</td>\n",
              "    </tr>\n",
              "    <tr>\n",
              "      <th>3</th>\n",
              "      <td>1.0</td>\n",
              "      <td>-0.966272</td>\n",
              "      <td>-0.185226</td>\n",
              "      <td>1.792993</td>\n",
              "      <td>-0.863291</td>\n",
              "      <td>-0.010309</td>\n",
              "      <td>1.247203</td>\n",
              "      <td>0.237609</td>\n",
              "      <td>0.377436</td>\n",
              "      <td>-1.387024</td>\n",
              "      <td>-0.054952</td>\n",
              "      <td>-0.226487</td>\n",
              "      <td>0.178228</td>\n",
              "      <td>0.507757</td>\n",
              "      <td>-0.287924</td>\n",
              "      <td>-0.631418</td>\n",
              "      <td>-1.059647</td>\n",
              "      <td>-0.684093</td>\n",
              "      <td>1.965775</td>\n",
              "      <td>-1.232622</td>\n",
              "      <td>-0.208038</td>\n",
              "      <td>-0.108300</td>\n",
              "      <td>0.005274</td>\n",
              "      <td>-0.190321</td>\n",
              "      <td>-1.175575</td>\n",
              "      <td>0.647376</td>\n",
              "      <td>-0.221929</td>\n",
              "      <td>0.062723</td>\n",
              "      <td>0.061458</td>\n",
              "      <td>123.50</td>\n",
              "      <td>0</td>\n",
              "    </tr>\n",
              "    <tr>\n",
              "      <th>4</th>\n",
              "      <td>2.0</td>\n",
              "      <td>-1.158233</td>\n",
              "      <td>0.877737</td>\n",
              "      <td>1.548718</td>\n",
              "      <td>0.403034</td>\n",
              "      <td>-0.407193</td>\n",
              "      <td>0.095921</td>\n",
              "      <td>0.592941</td>\n",
              "      <td>-0.270533</td>\n",
              "      <td>0.817739</td>\n",
              "      <td>0.753074</td>\n",
              "      <td>-0.822843</td>\n",
              "      <td>0.538196</td>\n",
              "      <td>1.345852</td>\n",
              "      <td>-1.119670</td>\n",
              "      <td>0.175121</td>\n",
              "      <td>-0.451449</td>\n",
              "      <td>-0.237033</td>\n",
              "      <td>-0.038195</td>\n",
              "      <td>0.803487</td>\n",
              "      <td>0.408542</td>\n",
              "      <td>-0.009431</td>\n",
              "      <td>0.798278</td>\n",
              "      <td>-0.137458</td>\n",
              "      <td>0.141267</td>\n",
              "      <td>-0.206010</td>\n",
              "      <td>0.502292</td>\n",
              "      <td>0.219422</td>\n",
              "      <td>0.215153</td>\n",
              "      <td>69.99</td>\n",
              "      <td>0</td>\n",
              "    </tr>\n",
              "  </tbody>\n",
              "</table>\n",
              "</div>"
            ],
            "text/plain": [
              "   Time        V1        V2        V3  ...       V27       V28  Amount  Class\n",
              "0   0.0 -1.359807 -0.072781  2.536347  ...  0.133558 -0.021053  149.62      0\n",
              "1   0.0  1.191857  0.266151  0.166480  ... -0.008983  0.014724    2.69      0\n",
              "2   1.0 -1.358354 -1.340163  1.773209  ... -0.055353 -0.059752  378.66      0\n",
              "3   1.0 -0.966272 -0.185226  1.792993  ...  0.062723  0.061458  123.50      0\n",
              "4   2.0 -1.158233  0.877737  1.548718  ...  0.219422  0.215153   69.99      0\n",
              "\n",
              "[5 rows x 31 columns]"
            ]
          },
          "metadata": {
            "tags": []
          },
          "execution_count": 3
        }
      ]
    },
    {
      "cell_type": "code",
      "metadata": {
        "id": "vWZt_9dWRnck",
        "colab_type": "code",
        "colab": {}
      },
      "source": [
        "X = credit.drop('Class', axis=1)\n",
        "y = credit['Class']\n",
        "\n",
        "# split \n",
        "X_train, X_test, y_train, y_test = train_test_split(X,y, test_size=0.30, random_state=42)\n",
        "\n",
        "\n",
        "# StandardScaler \n",
        "scaler = StandardScaler()\n",
        "X_train = scaler.fit_transform(X_train)\n",
        "X_test = scaler.transform(X_test)\n",
        "\n",
        "\n",
        "# Encoder \n",
        "encoder = LabelEncoder()\n",
        "y_train = encoder.fit_transform(y_train)\n",
        "y_test = encoder.transform(y_test)"
      ],
      "execution_count": 0,
      "outputs": []
    },
    {
      "cell_type": "code",
      "metadata": {
        "id": "XvTMq_i1St62",
        "colab_type": "code",
        "outputId": "b05dd084-25f9-432c-f69d-e1741f9868cc",
        "colab": {
          "base_uri": "https://localhost:8080/",
          "height": 330
        }
      },
      "source": [
        "sns.countplot(credit['Class'], palette='Set3')\n",
        "credit['Class'].value_counts()"
      ],
      "execution_count": 5,
      "outputs": [
        {
          "output_type": "execute_result",
          "data": {
            "text/plain": [
              "0    284315\n",
              "1       492\n",
              "Name: Class, dtype: int64"
            ]
          },
          "metadata": {
            "tags": []
          },
          "execution_count": 5
        },
        {
          "output_type": "display_data",
          "data": {
            "image/png": "[encoded data removed]",
            "text/plain": [
              "<Figure size 432x288 with 1 Axes>"
            ]
          },
          "metadata": {
            "tags": [],
            "needs_background": "light"
          }
        }
      ]
    },
    {
      "cell_type": "code",
      "metadata": {
        "id": "J2-RVSghR5xH",
        "colab_type": "code",
        "outputId": "ea8795d0-6980-4d36-d5fa-371292b79e3a",
        "colab": {
          "base_uri": "https://localhost:8080/",
          "height": 170
        }
      },
      "source": [
        "mdl = RandomForestClassifier(n_estimators=100, max_depth=12, random_state=42)\n",
        "mdl.fit(X_train, y_train)\n",
        "y_pred = mdl.predict(X_test)\n",
        "\n",
        "print(classification_report(y_test, y_pred))"
      ],
      "execution_count": 6,
      "outputs": [
        {
          "output_type": "stream",
          "text": [
            "              precision    recall  f1-score   support\n",
            "\n",
            "           0       1.00      1.00      1.00     85307\n",
            "           1       0.93      0.79      0.85       136\n",
            "\n",
            "    accuracy                           1.00     85443\n",
            "   macro avg       0.97      0.89      0.93     85443\n",
            "weighted avg       1.00      1.00      1.00     85443\n",
            "\n"
          ],
          "name": "stdout"
        }
      ]
    },
    {
      "cell_type": "markdown",
      "metadata": {
        "id": "Fyj6iH0HSU_u",
        "colab_type": "text"
      },
      "source": [
        "<hr>\n",
        "<br>\n",
        "<br>\n",
        "<hr>\n",
        "<br>\n",
        "<br>"
      ]
    },
    {
      "cell_type": "markdown",
      "metadata": {
        "id": "w9_sPuwrSZFR",
        "colab_type": "text"
      },
      "source": [
        "### OverSampling \n",
        "\n",
        "\n",
        "\n",
        "\n",
        "\n",
        "<p align=center>\n",
        "<img src=\"https://miro.medium.com/max/750/1*aKJJOozIlVVH1gT-4rYy4w.png\" width=\"50%\"></p>\n",
        "\n",
        "\n",
        "\n",
        "<hr>\n",
        "<br>"
      ]
    },
    {
      "cell_type": "markdown",
      "metadata": {
        "id": "CchPpA3UVmrq",
        "colab_type": "text"
      },
      "source": [
        "#### RandomOverSampler\n",
        "\n",
        "Técnica de OverSampling com sobreamostragem aleatória. A sobreamostragem aleatória simplesmente replica aleatoriamente os exemplos de classes minoritárias. Sabe-se que a sobreamostragem aleatória aumenta a probabilidade de ocorrência de sobreajuste (Overfitting)."
      ]
    },
    {
      "cell_type": "code",
      "metadata": {
        "id": "sVQ0tSp9Scke",
        "colab_type": "code",
        "colab": {}
      },
      "source": [
        "from imblearn.over_sampling import RandomOverSampler"
      ],
      "execution_count": 0,
      "outputs": []
    },
    {
      "cell_type": "code",
      "metadata": {
        "id": "NQKhjydfSjHr",
        "colab_type": "code",
        "outputId": "6c7fe94a-831a-4500-84a1-6baa0b5923b0",
        "colab": {
          "base_uri": "https://localhost:8080/",
          "height": 34
        }
      },
      "source": [
        "# RandomOverSampler\n",
        "\n",
        "X = credit.drop('Class', axis=1)\n",
        "y = credit['Class']\n",
        "\n",
        "\n",
        "sampler = RandomOverSampler(ratio={0:284315, 1:17000} ,random_state=42)\n",
        "X_rs, y_rs = sampler.fit_sample(X, y)\n",
        "\n",
        "# Balanceamento \n",
        "np.bincount(y_rs)"
      ],
      "execution_count": 8,
      "outputs": [
        {
          "output_type": "execute_result",
          "data": {
            "text/plain": [
              "array([284315,  17000])"
            ]
          },
          "metadata": {
            "tags": []
          },
          "execution_count": 8
        }
      ]
    },
    {
      "cell_type": "code",
      "metadata": {
        "id": "0hr9bPK-VOVN",
        "colab_type": "code",
        "colab": {}
      },
      "source": [
        "X_train, X_test, y_train, y_test = train_test_split(X_rs, y_rs, test_size=0.30, random_state=42)\n",
        " \n",
        "scaler = StandardScaler()\n",
        "X_train = scaler.fit_transform(X_train)\n",
        "X_test = scaler.transform(X_test)\n",
        "\n",
        "\n",
        "encoder = LabelEncoder()\n",
        "y_train = encoder.fit_transform(y_train)\n",
        "y_test = encoder.transform(y_test)"
      ],
      "execution_count": 0,
      "outputs": []
    },
    {
      "cell_type": "code",
      "metadata": {
        "id": "uEifujMoUMMv",
        "colab_type": "code",
        "outputId": "c9c5ed9e-8d1f-49b9-9705-e8a4bb0cbeef",
        "colab": {
          "base_uri": "https://localhost:8080/",
          "height": 170
        }
      },
      "source": [
        "mdl = RandomForestClassifier(n_estimators=300, max_depth=12, random_state=42)\n",
        "mdl.fit(X_train, y_train)\n",
        "y_pred = mdl.predict(X_test)\n",
        "\n",
        "print(classification_report(y_test, y_pred))"
      ],
      "execution_count": 10,
      "outputs": [
        {
          "output_type": "stream",
          "text": [
            "              precision    recall  f1-score   support\n",
            "\n",
            "           0       0.99      1.00      1.00     85354\n",
            "           1       1.00      0.91      0.95      5041\n",
            "\n",
            "    accuracy                           1.00     90395\n",
            "   macro avg       1.00      0.96      0.98     90395\n",
            "weighted avg       1.00      1.00      0.99     90395\n",
            "\n"
          ],
          "name": "stdout"
        }
      ]
    },
    {
      "cell_type": "markdown",
      "metadata": {
        "id": "4CQ-3FhMgubQ",
        "colab_type": "text"
      },
      "source": [
        "Neste exemplo, utilizamos o RandomOverSampler, ele conseguiu capturar 91% das fraudes (Recall), definimos que deveria ser reproduzido  17.000 amostras da classe fraude, é um número muito razoável comparado a classe majoritária, e aqui coloquei um valor bem abaixo da classe predominante, pelo fato de ser um técnica que está muito sujeita ao Overfitting, tem que ter uma atanção a mais no valor que vai inserir para a Sobreamostragem. "
      ]
    },
    {
      "cell_type": "markdown",
      "metadata": {
        "id": "1wrY7L4XVe35",
        "colab_type": "text"
      },
      "source": [
        "<hr>\n",
        "<br>\n",
        "<br>\n",
        "<hr>\n",
        "<br>"
      ]
    },
    {
      "cell_type": "markdown",
      "metadata": {
        "id": "xiMVR1erVihQ",
        "colab_type": "text"
      },
      "source": [
        "### SMOTE \n",
        "\n",
        "SMOTE é outra técnica de OverSampling, para evitar o problema do excesso de adaptação, propõem a Técnica de Sobre-Amostragem de Minorias Sintéticas (SMOTE). Este método é considerado uma técnica de ponta e funciona bem em várias aplicações. Este método gera dados sintéticos com base nas semelhanças do espaço de recurso entre instâncias minoritárias existentes. Para criar uma instância sintética, ele encontra os vizinhos K-mais próximos de cada instância minoritária, seleciona aleatoriamente um deles e calcula interpolações lineares para produzir uma nova instância minoritária na vizinhança.\n",
        "\n",
        "\n",
        "\n",
        "\n",
        "<hr>"
      ]
    },
    {
      "cell_type": "code",
      "metadata": {
        "id": "miW4EMu5VdeB",
        "colab_type": "code",
        "colab": {}
      },
      "source": [
        "from imblearn.over_sampling import SMOTE "
      ],
      "execution_count": 0,
      "outputs": []
    },
    {
      "cell_type": "code",
      "metadata": {
        "id": "wUc7kc_Akq_s",
        "colab_type": "code",
        "outputId": "a9e0d199-29df-4234-d611-46d4c5c9ba24",
        "colab": {
          "base_uri": "https://localhost:8080/",
          "height": 34
        }
      },
      "source": [
        "# SMOTE \n",
        "\n",
        "X = credit.drop('Class', axis=1)\n",
        "y = credit['Class']\n",
        "\n",
        "smt = SMOTE(sampling_strategy=0.20, k_neighbors=5 ,random_state=42)\n",
        "X_smt, y_smt = smt.fit_sample(X, y)\n",
        "\n",
        "# Balanceamento \n",
        "np.bincount(y_smt)"
      ],
      "execution_count": 12,
      "outputs": [
        {
          "output_type": "execute_result",
          "data": {
            "text/plain": [
              "array([284315,  56863])"
            ]
          },
          "metadata": {
            "tags": []
          },
          "execution_count": 12
        }
      ]
    },
    {
      "cell_type": "code",
      "metadata": {
        "id": "t6DJ4c17k-A5",
        "colab_type": "code",
        "colab": {}
      },
      "source": [
        "X_train, X_test, y_train, y_test = train_test_split(X_smt, y_smt, test_size=0.30, random_state=42)\n",
        " \n",
        "scaler = StandardScaler()\n",
        "X_train = scaler.fit_transform(X_train)\n",
        "X_test = scaler.transform(X_test)\n",
        "\n",
        "\n",
        "encoder = LabelEncoder()\n",
        "y_train = encoder.fit_transform(y_train)\n",
        "y_test = encoder.transform(y_test)"
      ],
      "execution_count": 0,
      "outputs": []
    },
    {
      "cell_type": "code",
      "metadata": {
        "id": "BAuDd3Z4lREY",
        "colab_type": "code",
        "outputId": "b9c58c91-7ee7-4b3c-f46b-104f9d7cbdcf",
        "colab": {
          "base_uri": "https://localhost:8080/",
          "height": 170
        }
      },
      "source": [
        "mdl = RandomForestClassifier(n_estimators=100, max_depth=12, random_state=42)\n",
        "mdl.fit(X_train, y_train)\n",
        "y_pred = mdl.predict(X_test)\n",
        "\n",
        "print(classification_report(y_test, y_pred))"
      ],
      "execution_count": 14,
      "outputs": [
        {
          "output_type": "stream",
          "text": [
            "              precision    recall  f1-score   support\n",
            "\n",
            "           0       0.99      1.00      1.00     85373\n",
            "           1       1.00      0.96      0.98     16981\n",
            "\n",
            "    accuracy                           0.99    102354\n",
            "   macro avg       1.00      0.98      0.99    102354\n",
            "weighted avg       0.99      0.99      0.99    102354\n",
            "\n"
          ],
          "name": "stdout"
        }
      ]
    },
    {
      "cell_type": "markdown",
      "metadata": {
        "id": "NmuuxwvvmWds",
        "colab_type": "text"
      },
      "source": [
        "<br>\n",
        "<hr>\n",
        "<br>\n",
        "<br>\n",
        "<br>\n",
        "<hr>"
      ]
    },
    {
      "cell_type": "markdown",
      "metadata": {
        "id": "5QkgTMDAmcFa",
        "colab_type": "text"
      },
      "source": [
        "### ADASYN\n",
        "\n",
        "Amostragem Sintética Adaptativa técnica de OverSampling também, O ADASYN gera amostras da classe minoritária de acordo com suas distribuições de densidade. Dados mais sintéticos são gerados para amostras de classes minoritárias mais difíceis de aprender, em comparação com aquelas amostras minoritárias mais fáceis de aprender. \n",
        "\n",
        "Ele calcula os vizinhos K-mais próximos de cada instância minoritária e obtém a taxa de classe das instâncias minoritárias e majoritárias para gerar novas amostras. Ao repetir esse processo, ele muda de forma adaptativa o limite de decisão para se concentrar nas amostras que são difíceis de aprender.\n",
        "\n",
        "<hr>"
      ]
    },
    {
      "cell_type": "code",
      "metadata": {
        "id": "k6zLzjxgmYWD",
        "colab_type": "code",
        "colab": {}
      },
      "source": [
        "from imblearn.over_sampling import ADASYN"
      ],
      "execution_count": 0,
      "outputs": []
    },
    {
      "cell_type": "code",
      "metadata": {
        "id": "OPmysFLTo0Ld",
        "colab_type": "code",
        "outputId": "8f570bad-199a-462a-9a3c-eb4df207f88f",
        "colab": {
          "base_uri": "https://localhost:8080/",
          "height": 34
        }
      },
      "source": [
        "X = credit.drop('Class', axis=1)\n",
        "y = credit['Class']\n",
        "\n",
        "ada = ADASYN(n_neighbors=5 ,random_state=42)\n",
        "X_ada, y_ada = ada.fit_sample(X, y)\n",
        "\n",
        "# Balanceamento \n",
        "np.bincount(y_ada)"
      ],
      "execution_count": 16,
      "outputs": [
        {
          "output_type": "execute_result",
          "data": {
            "text/plain": [
              "array([284315, 284298])"
            ]
          },
          "metadata": {
            "tags": []
          },
          "execution_count": 16
        }
      ]
    },
    {
      "cell_type": "code",
      "metadata": {
        "id": "OKa9fNxUo8Iu",
        "colab_type": "code",
        "colab": {}
      },
      "source": [
        "X_train, X_test, y_train, y_test = train_test_split(X_smt, y_smt, test_size=0.30, random_state=42)\n",
        " \n",
        "scaler = StandardScaler()\n",
        "X_train = scaler.fit_transform(X_train)\n",
        "X_test = scaler.transform(X_test)\n",
        "\n",
        "\n",
        "encoder = LabelEncoder()\n",
        "y_train = encoder.fit_transform(y_train)\n",
        "y_test = encoder.transform(y_test)"
      ],
      "execution_count": 0,
      "outputs": []
    },
    {
      "cell_type": "code",
      "metadata": {
        "id": "CjF0hpvao-T9",
        "colab_type": "code",
        "outputId": "18943dd6-b67b-4f94-a5b8-9c5490e451f8",
        "colab": {
          "base_uri": "https://localhost:8080/",
          "height": 170
        }
      },
      "source": [
        "mdl = RandomForestClassifier(n_estimators=100, max_depth=12, random_state=42)\n",
        "mdl.fit(X_train, y_train)\n",
        "y_pred = mdl.predict(X_test)\n",
        "\n",
        "print(classification_report(y_test, y_pred))"
      ],
      "execution_count": 18,
      "outputs": [
        {
          "output_type": "stream",
          "text": [
            "              precision    recall  f1-score   support\n",
            "\n",
            "           0       0.99      1.00      1.00     85373\n",
            "           1       1.00      0.96      0.98     16981\n",
            "\n",
            "    accuracy                           0.99    102354\n",
            "   macro avg       1.00      0.98      0.99    102354\n",
            "weighted avg       0.99      0.99      0.99    102354\n",
            "\n"
          ],
          "name": "stdout"
        }
      ]
    },
    {
      "cell_type": "markdown",
      "metadata": {
        "id": "tNjGmYDRpLrN",
        "colab_type": "text"
      },
      "source": [
        "<br>\n",
        "<hr>\n",
        "<br>\n",
        "<br>\n",
        "<hr>\n",
        "<br>"
      ]
    },
    {
      "cell_type": "markdown",
      "metadata": {
        "id": "WqTUokM_pPUN",
        "colab_type": "text"
      },
      "source": [
        "### UnderSampling \n",
        "\n",
        "UnderSampling são técnicas de balancemento de dados, que reduz a classe majoritária do conjunto de dados, na tentativa de igualar com a classe minoritária, são técnicas bastante usadas para dados desbalanceados, a vantagem de técnicas de Under Sampling é reduzir o ruído nos dados majoritários, a desvantagem dessas técnicas é que, ao reduzir as classes majoritárias pode acabar excluindo amostras, que tem uma grande representividade para o modelo. \n",
        "\n",
        "\n",
        "A questão do desequilíbrio de classe pode resultar em um sério viés para a classe majoritária, reduzindo o desempenho da classificação e aumentando o número de falsos negativos. Como podemos aliviar o problema? As técnicas mais usadas são a reamostragem de dados ou subamostrando a maioria da classe, ou superamostrando a classe minoritária ou uma mistura de ambas. Isso resultará em melhor desempenho da classificação.\n",
        "\n",
        "\n",
        "<p align=center>\n",
        "<img src=\"https://miro.medium.com/max/670/1*YH_vPYQEDIW0JoUYMeLz_A.png\" width=\"50%\"></p>\n",
        "\n",
        "\n",
        "\n",
        "\n",
        "<hr>"
      ]
    },
    {
      "cell_type": "markdown",
      "metadata": {
        "id": "PTlnr2wMxZzW",
        "colab_type": "text"
      },
      "source": [
        "#### Cluster Centroids\n",
        "\n",
        "Uma técnica de UnderSampling que oferece uma maneira eficiente de representar o cluster de dados com um número reduzido de amostras. Lembre-se de que esse método exige que seus dados sejam agrupados em clusters. Além disso, o número de centróides deve ser definido de forma que os clusters subamostrados sejam representativos do original.\n",
        "\n",
        "A vantagem dessa técnica é que ele permite, mantes as amostras mais representativas do conjunto de dados, assim reduz a perda de informação. "
      ]
    },
    {
      "cell_type": "code",
      "metadata": {
        "id": "bXA-g_ElpOes",
        "colab_type": "code",
        "colab": {}
      },
      "source": [
        "from imblearn.under_sampling import ClusterCentroids"
      ],
      "execution_count": 0,
      "outputs": []
    },
    {
      "cell_type": "code",
      "metadata": {
        "id": "B8bVvI2qyIN0",
        "colab_type": "code",
        "outputId": "0200b69d-1e4e-4bf8-b202-1f31d7498580",
        "colab": {
          "base_uri": "https://localhost:8080/",
          "height": 88
        }
      },
      "source": [
        "X = credit.drop('Class', axis=1)\n",
        "y = credit['Class']\n",
        "\n",
        "\n",
        "cc = ClusterCentroids(ratio={0:1200, 1:492},random_state=42)\n",
        "X_cc, y_cc = cc.fit_sample(X, y)\n",
        "\n",
        "# Balanceamento \n",
        "np.bincount(y_cc)"
      ],
      "execution_count": 20,
      "outputs": [
        {
          "output_type": "stream",
          "text": [
            "/usr/local/lib/python3.6/dist-packages/imblearn/under_sampling/_prototype_generation/_cluster_centroids.py:156: ConvergenceWarning: Number of distinct clusters (473) found smaller than n_clusters (492). Possibly due to duplicate points in X.\n",
            "  self.estimator_.fit(X[y == target_class])\n"
          ],
          "name": "stderr"
        },
        {
          "output_type": "execute_result",
          "data": {
            "text/plain": [
              "array([1200,  492])"
            ]
          },
          "metadata": {
            "tags": []
          },
          "execution_count": 20
        }
      ]
    },
    {
      "cell_type": "code",
      "metadata": {
        "id": "0fVwB10Cx2Ka",
        "colab_type": "code",
        "colab": {}
      },
      "source": [
        "X_train, X_test, y_train, y_test = train_test_split(X_cc, y_cc, test_size=0.30, random_state=42)\n",
        " \n",
        "scaler = StandardScaler()\n",
        "X_train = scaler.fit_transform(X_train)\n",
        "X_test = scaler.transform(X_test)\n",
        "\n",
        "\n",
        "encoder = LabelEncoder()\n",
        "y_train = encoder.fit_transform(y_train)\n",
        "y_test = encoder.transform(y_test)\n"
      ],
      "execution_count": 0,
      "outputs": []
    },
    {
      "cell_type": "code",
      "metadata": {
        "id": "iOM38wQCybaO",
        "colab_type": "code",
        "outputId": "fe396149-1853-44f8-8e54-ed6be922558c",
        "colab": {
          "base_uri": "https://localhost:8080/",
          "height": 170
        }
      },
      "source": [
        "mdl = RandomForestClassifier(n_estimators=100, max_depth=12, random_state=42)\n",
        "mdl.fit(X_train, y_train)\n",
        "y_pred = mdl.predict(X_test)\n",
        "\n",
        "print(classification_report(y_test, y_pred))"
      ],
      "execution_count": 22,
      "outputs": [
        {
          "output_type": "stream",
          "text": [
            "              precision    recall  f1-score   support\n",
            "\n",
            "           0       1.00      1.00      1.00       354\n",
            "           1       1.00      0.99      1.00       154\n",
            "\n",
            "    accuracy                           1.00       508\n",
            "   macro avg       1.00      1.00      1.00       508\n",
            "weighted avg       1.00      1.00      1.00       508\n",
            "\n"
          ],
          "name": "stdout"
        }
      ]
    },
    {
      "cell_type": "markdown",
      "metadata": {
        "id": "oECOXPL_zW2B",
        "colab_type": "text"
      },
      "source": [
        "<br>\n",
        "<hr>\n",
        "<br>\n",
        "<br>\n",
        "<hr>\n",
        "<br>"
      ]
    },
    {
      "cell_type": "markdown",
      "metadata": {
        "id": "4fcAc6Y6zYHa",
        "colab_type": "text"
      },
      "source": [
        "#### Random Undem Sampler \n",
        "\n",
        "\n",
        "Técnica de UnderSampling com subamostragem aleatória. A sobreamostragem aleatória simplesmente é uma maneira rápida e fácil de equilibrar os dados, selecionando aleatoriamente um subconjunto de dados para as classes de destino. \n",
        "\n",
        "\n",
        "Uma técnica simples de subamostragem é subestimar a classe majoritária aleatória e uniformemente. Isso pode levar à perda de informações. Mas se os exemplos da classe majoritária estiverem próximos de outros, esse método poderá produzir bons resultados.\n",
        "\n",
        "<hr>\n"
      ]
    },
    {
      "cell_type": "code",
      "metadata": {
        "id": "0tTCKv-jzw3E",
        "colab_type": "code",
        "colab": {}
      },
      "source": [
        "from imblearn.under_sampling import RandomUnderSampler "
      ],
      "execution_count": 0,
      "outputs": []
    },
    {
      "cell_type": "code",
      "metadata": {
        "id": "wdF0GlEhz0iv",
        "colab_type": "code",
        "outputId": "16bc8e97-39dd-427b-f948-d384c6251aa3",
        "colab": {
          "base_uri": "https://localhost:8080/",
          "height": 34
        }
      },
      "source": [
        "X = credit.drop('Class', axis=1)\n",
        "y = credit['Class']\n",
        "\n",
        "\n",
        "ump = RandomUnderSampler(random_state=42)\n",
        "X_ump, y_ump = ump.fit_sample(X, y)\n",
        "\n",
        "# Balanceamento \n",
        "np.bincount(y_ump)"
      ],
      "execution_count": 24,
      "outputs": [
        {
          "output_type": "execute_result",
          "data": {
            "text/plain": [
              "array([492, 492])"
            ]
          },
          "metadata": {
            "tags": []
          },
          "execution_count": 24
        }
      ]
    },
    {
      "cell_type": "code",
      "metadata": {
        "id": "dfa_nxVT0BNn",
        "colab_type": "code",
        "colab": {}
      },
      "source": [
        "X_train, X_test, y_train, y_test = train_test_split(X_ump, y_ump, test_size=0.30, random_state=42)\n",
        " \n",
        "scaler = StandardScaler()\n",
        "X_train = scaler.fit_transform(X_train)\n",
        "X_test = scaler.transform(X_test)\n",
        "\n",
        "\n",
        "encoder = LabelEncoder()\n",
        "y_train = encoder.fit_transform(y_train)\n",
        "y_test = encoder.transform(y_test)"
      ],
      "execution_count": 0,
      "outputs": []
    },
    {
      "cell_type": "code",
      "metadata": {
        "id": "Fv9Wy0zn0EvI",
        "colab_type": "code",
        "outputId": "274d1bed-165a-4713-fda3-69076243d1b0",
        "colab": {
          "base_uri": "https://localhost:8080/",
          "height": 170
        }
      },
      "source": [
        "mdl = RandomForestClassifier(n_estimators=100, max_depth=12, random_state=42)\n",
        "mdl.fit(X_train, y_train)\n",
        "y_pred = mdl.predict(X_test)\n",
        "\n",
        "print(classification_report(y_test, y_pred))"
      ],
      "execution_count": 26,
      "outputs": [
        {
          "output_type": "stream",
          "text": [
            "              precision    recall  f1-score   support\n",
            "\n",
            "           0       0.91      0.97      0.94       150\n",
            "           1       0.96      0.90      0.93       146\n",
            "\n",
            "    accuracy                           0.94       296\n",
            "   macro avg       0.94      0.94      0.94       296\n",
            "weighted avg       0.94      0.94      0.94       296\n",
            "\n"
          ],
          "name": "stdout"
        }
      ]
    },
    {
      "cell_type": "markdown",
      "metadata": {
        "id": "Qz6J25gu0I5Y",
        "colab_type": "text"
      },
      "source": [
        "<br>\n",
        "<hr>\n",
        "<br>\n",
        "<br>\n",
        "<hr>\n",
        "<br>"
      ]
    },
    {
      "cell_type": "markdown",
      "metadata": {
        "id": "07euzO9t0WI3",
        "colab_type": "text"
      },
      "source": [
        "#### NearMiss \n",
        "\n",
        "\n",
        "Para atacar a questão da perda potencial de informações, o método “vizinho próximo” e suas variações foram propostos. Os algoritmos básicos da família do vizinho próximo são: primeiro, o método calcula as distâncias entre todas as instâncias da classe majoritária e as instâncias da classe minoritária. Em seguida, são selecionadas k instâncias da classe majoritária que têm as menores distâncias da classe minoritária. Se houver N instâncias na classe minoritária, o método \"mais próximo\" resultará em k * n instâncias da classe majoritária.\n",
        "\n",
        "<br>\n",
        "\n",
        "Parâmetro <b> version: </b>\n",
        "\n",
        "\n",
        "* NearMiss-1\" seleciona amostras da classe majoritária em que suas distâncias médias até as três instâncias mais próximas da classe minoritária são as menores.\n",
        "\n",
        "*  NearMiss-2\" usa três amostras mais distantes da classe minoritária.\n",
        "* NearMiss-3\" seleciona um número determinado das amostras mais próximas da classe majoritária para cada amostra da classe minoritária.\n",
        "\n",
        "\n",
        "<hr>\n"
      ]
    },
    {
      "cell_type": "code",
      "metadata": {
        "id": "u8HdHhbL0LsZ",
        "colab_type": "code",
        "colab": {}
      },
      "source": [
        "from imblearn.under_sampling import NearMiss "
      ],
      "execution_count": 0,
      "outputs": []
    },
    {
      "cell_type": "code",
      "metadata": {
        "id": "hNiDLsVD35s0",
        "colab_type": "code",
        "colab": {
          "base_uri": "https://localhost:8080/",
          "height": 34
        },
        "outputId": "0ec3255d-550e-4ea7-9e02-9ccb2b5f1f4e"
      },
      "source": [
        "X = credit.drop('Class', axis=1)\n",
        "y = credit['Class']\n",
        "\n",
        "\n",
        "nss = NearMiss(ratio={0:1200, 1:492}, version=2 ,random_state=42)\n",
        "X_nss, y_nss = nss.fit_sample(X, y)\n",
        "\n",
        "# Balanceamento \n",
        "np.bincount(y_nss)"
      ],
      "execution_count": 28,
      "outputs": [
        {
          "output_type": "execute_result",
          "data": {
            "text/plain": [
              "array([1200,  492])"
            ]
          },
          "metadata": {
            "tags": []
          },
          "execution_count": 28
        }
      ]
    },
    {
      "cell_type": "code",
      "metadata": {
        "id": "kAPmGgOu4CZU",
        "colab_type": "code",
        "colab": {}
      },
      "source": [
        "X_train, X_test, y_train, y_test = train_test_split(X_nss, y_nss, test_size=0.30, random_state=42)\n",
        " \n",
        "scaler = StandardScaler()\n",
        "X_train = scaler.fit_transform(X_train)\n",
        "X_test = scaler.transform(X_test)\n",
        "\n",
        "\n",
        "encoder = LabelEncoder()\n",
        "y_train = encoder.fit_transform(y_train)\n",
        "y_test = encoder.transform(y_test)"
      ],
      "execution_count": 0,
      "outputs": []
    },
    {
      "cell_type": "code",
      "metadata": {
        "id": "QxKXrdDy4ElP",
        "colab_type": "code",
        "colab": {
          "base_uri": "https://localhost:8080/",
          "height": 170
        },
        "outputId": "d7151b06-320f-4690-9331-5c6c8ad2819f"
      },
      "source": [
        "mdl = RandomForestClassifier(n_estimators=100, max_depth=12, random_state=42)\n",
        "mdl.fit(X_train, y_train)\n",
        "y_pred = mdl.predict(X_test)\n",
        "\n",
        "print(classification_report(y_test, y_pred))"
      ],
      "execution_count": 30,
      "outputs": [
        {
          "output_type": "stream",
          "text": [
            "              precision    recall  f1-score   support\n",
            "\n",
            "           0       0.99      1.00      1.00       354\n",
            "           1       0.99      0.99      0.99       154\n",
            "\n",
            "    accuracy                           0.99       508\n",
            "   macro avg       0.99      0.99      0.99       508\n",
            "weighted avg       0.99      0.99      0.99       508\n",
            "\n"
          ],
          "name": "stdout"
        }
      ]
    },
    {
      "cell_type": "markdown",
      "metadata": {
        "id": "9Oup_D2aPYD3",
        "colab_type": "text"
      },
      "source": [
        "<hr>\n",
        "<br>\n",
        "<hr>\n",
        "<br>\n",
        "<br>\n",
        "\n",
        "\n",
        "\n",
        "### Conclusão"
      ]
    },
    {
      "cell_type": "markdown",
      "metadata": {
        "id": "CttzPc8mOng_",
        "colab_type": "text"
      },
      "source": [
        "\n",
        "\n",
        "Neste guia aprendemos as principais técnicas de Reamostragem para dados desbalanceados, de qualquer forma temos que tomar cuidado com Overfitting, é necessário ter uma intuição e ponderar os parâmetros de cada técnica apresentada, há casos em que se pode fazer a mistura de uma técnica de OverSampling com UnderSampling para obter um métrica maior, a validação cruzada também é importante e deve ser aplicada para evidenciar a performance do modelo, para que não estejamos errando quanto as estimativas retornadas, testar uma combinação de técnicas de balanceamento com o tuning de hiperparâmetros dos modelos, como modelos baseados em Árvore, pode ser uma excelente abordagem, espero que esse guia atenda os problemas de desbalanceamento de dados estruturados. "
      ]
    },
    {
      "cell_type": "markdown",
      "metadata": {
        "id": "lBWa5xWD4KNW",
        "colab_type": "text"
      },
      "source": [
        "<br>\n",
        "<hr>\n",
        "<br>\n",
        "<br>\n",
        "<hr>\n",
        "<br>"
      ]
    }
  ]
}